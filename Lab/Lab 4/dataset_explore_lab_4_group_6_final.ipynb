{
 "cells": [
  {
   "cell_type": "markdown",
   "metadata": {},
   "source": [
    "# Lab 4"
   ]
  },
  {
   "cell_type": "markdown",
   "metadata": {},
   "source": [
    "## JMuBEN2 dataset\n"
   ]
  },
  {
   "cell_type": "markdown",
   "metadata": {},
   "source": [
    "(https://data.mendeley.com/datasets/tgv3zb82nd/1)\n",
    "\n",
    "Image dataset taken from an Arabica coffee plantation. The image dataset contains collection of healthy and miner coffee leaves."
   ]
  },
  {
   "cell_type": "markdown",
   "metadata": {},
   "source": [
    "# Loading and Spliting the dataset "
   ]
  },
  {
   "cell_type": "code",
   "execution_count": 1,
   "metadata": {},
   "outputs": [],
   "source": [
    "import os\n",
    "import requests\n",
    "import zipfile\n",
    "import numpy as np\n",
    "\n",
    "dataset_url = 'https://github.com/ishaqmarashy/DATALFS/raw/main/JMuBEN.zip'\n",
    "dataset_dir = './JMuBEN'\n",
    "\n",
    "# create directory for dataset if it does not exist\n",
    "if not os.path.exists(dataset_dir):\n",
    "    os.makedirs(dataset_dir)\n",
    "    \n",
    "# append JMuBEN.zip to the end of the path (this is where we download the file to)\n",
    "zip_file_path = os.path.join(dataset_dir, 'JMuBEN.zip')\n",
    "\n",
    "\n",
    "# check if file is downloaded already\n",
    "if not os.path.exists(zip_file_path):\n",
    "    \n",
    "    # file is not downloaded so fetch the file\n",
    "    response = requests.get(dataset_url)\n",
    "    \n",
    "    # write file to storage which is recieved from the response\n",
    "    with open(zip_file_path, 'wb') as zip_file:\n",
    "        zip_file.write(response.content)\n",
    "        \n",
    "    # unzip to zip file path\n",
    "    with zipfile.ZipFile(zip_file_path, 'r') as zip_ref:\n",
    "        zip_ref.extractall(dataset_dir)\n",
    "\n",
    "# within the concat train and test to become ./JMuBEN/train and JMuBEN ./JMuBEN/test\n",
    "train_dir = os.path.join(dataset_dir, 'train')\n",
    "test_dir = os.path.join(dataset_dir, 'test')"
   ]
  },
  {
   "cell_type": "code",
   "execution_count": 2,
   "metadata": {
    "id": "wNVZNNGPpUsJ"
   },
   "outputs": [],
   "source": [
    "def load_images_and_labels(directory):\n",
    "    images = []\n",
    "    labels = []\n",
    "    \n",
    "    # get subdirectories Healthy and Miner\n",
    "    \n",
    "    for class_name in os.listdir(directory):\n",
    "        \n",
    "        # concat subdirectory to get full path\n",
    "        class_dir = os.path.join(directory, class_name)\n",
    "        # assign labels using class subdirectory\n",
    "        # label is determined by filepath\n",
    "        label = 0 if class_name == 'Miner' else 1\n",
    "        \n",
    "        # append labels and image paths to labels and images respectively\n",
    "        for filename in os.listdir(class_dir):\n",
    "            images.append(os.path.join(class_dir, filename))\n",
    "            labels.append(label)\n",
    "            \n",
    "    return images, labels\n",
    "\n",
    "# load file directories and their labels\n",
    "train_images_dir, train_labels = load_images_and_labels(train_dir)\n",
    "test_images_dir, test_labels = load_images_and_labels(test_dir)"
   ]
  },
  {
   "cell_type": "code",
   "execution_count": 3,
   "metadata": {
    "colab": {
     "base_uri": "https://localhost:8080/"
    },
    "id": "-wWJu4XIpUsK",
    "outputId": "b5dc0d20-b7a1-4b1b-a1b2-dfe19da8c1ef"
   },
   "outputs": [
    {
     "name": "stdout",
     "output_type": "stream",
     "text": [
      "Train images:24000  Labels:24000\n",
      "Test images:6000  Labels:6000\n"
     ]
    }
   ],
   "source": [
    "# print the number of images and labels\n",
    "\n",
    "print(f\"Train images:{len(train_images_dir)}  Labels:{len(train_labels)}\")\n",
    "print(f\"Test images:{len(test_images_dir)}  Labels:{len(test_labels)}\")\n"
   ]
  },
  {
   "cell_type": "markdown",
   "metadata": {},
   "source": [
    "# Pre-processing and Normalization"
   ]
  },
  {
   "cell_type": "markdown",
   "metadata": {},
   "source": [
    "Images in the dataset were converted to grayscale and resized to 128x128"
   ]
  },
  {
   "cell_type": "markdown",
   "metadata": {},
   "source": [
    "Tried loading as described https://www.analyticsvidhya.com/blog/2021/07/step-by-step-guide-for-image-classification-on-custom-datasets/\n",
    "\n",
    "https://towardsdatascience.com/pipelines-custom-transformers-in-scikit-learn-the-step-by-step-guide-with-python-code-4a7d9b068156"
   ]
  },
  {
   "cell_type": "code",
   "execution_count": 4,
   "metadata": {
    "id": "6lxOlSPGrUn8"
   },
   "outputs": [],
   "source": [
    "import cv2\n",
    "from sklearn.pipeline import Pipeline\n",
    "from sklearn.preprocessing import FunctionTransformer\n",
    "\n",
    "def load_grayscale_images(image_paths):\n",
    "    loaded_images = []\n",
    "    for image_path in image_paths:\n",
    "        img = cv2.imread(image_path, cv2.IMREAD_GRAYSCALE)  #  grayscale\n",
    "        loaded_images.append(img)\n",
    "    return loaded_images\n",
    "\n",
    "def resize_images(images_to_resize):\n",
    "    resized_images = []\n",
    "    for img in images_to_resize:\n",
    "        resized_img = cv2.resize(img, (128, 128))  # resize\n",
    "        resized_images.append(resized_img)\n",
    "    return resized_images\n",
    "\n",
    "def normalize_image(images_to_normalize):\n",
    "    normalized_images = []\n",
    "    for img in images_to_normalize:\n",
    "        normalized_img = img / 255.0  # normalize\n",
    "        normalized_images.append(normalized_img)\n",
    "    return normalized_images\n",
    "\n",
    "image_pipeline = Pipeline(steps=[\n",
    "    ('load_grayscale_images', FunctionTransformer(load_grayscale_images)),\n",
    "    ('resize_images', FunctionTransformer(resize_images)),\n",
    "    ('normalize_image', FunctionTransformer(normalize_image))\n",
    "])\n",
    "\n",
    "\n",
    "train_images=image_pipeline.transform(train_images_dir)\n",
    "test_images=image_pipeline.transform(test_images_dir)"
   ]
  },
  {
   "cell_type": "code",
   "execution_count": 5,
   "metadata": {},
   "outputs": [
    {
     "name": "stdout",
     "output_type": "stream",
     "text": [
      "24000\n",
      "6000\n"
     ]
    }
   ],
   "source": [
    "print(len(train_images))\n",
    "print(len(test_images))"
   ]
  },
  {
   "cell_type": "markdown",
   "metadata": {},
   "source": [
    "# Model Training"
   ]
  },
  {
   "cell_type": "markdown",
   "metadata": {},
   "source": [
    "## CNN Model"
   ]
  },
  {
   "cell_type": "code",
   "execution_count": 6,
   "metadata": {},
   "outputs": [
    {
     "name": "stderr",
     "output_type": "stream",
     "text": [
      "2023-10-12 15:04:22.400012: I tensorflow/core/platform/cpu_feature_guard.cc:182] This TensorFlow binary is optimized to use available CPU instructions in performance-critical operations.\n",
      "To enable the following instructions: AVX2 AVX512F AVX512_VNNI FMA, in other operations, rebuild TensorFlow with the appropriate compiler flags.\n"
     ]
    }
   ],
   "source": [
    "import pandas as pd\n",
    "from sklearn.metrics import classification_report\n",
    "import seaborn as sn; sn.set(font_scale=1.4)\n",
    "from sklearn.utils import shuffle\n",
    "import matplotlib.pyplot as plt\n",
    "import tensorflow as tf\n",
    "from tqdm import tqdm\n",
    "\n",
    "from sklearn.model_selection import KFold"
   ]
  },
  {
   "cell_type": "code",
   "execution_count": 8,
   "metadata": {},
   "outputs": [
    {
     "data": {
      "text/plain": [
       "array([[0.41960784, 0.39607843, 0.43137255, ..., 0.41960784, 0.40784314,\n",
       "        0.43921569],\n",
       "       [0.42745098, 0.38823529, 0.40392157, ..., 0.48235294, 0.4627451 ,\n",
       "        0.48627451],\n",
       "       [0.42745098, 0.38431373, 0.39607843, ..., 0.44313725, 0.39215686,\n",
       "        0.38823529],\n",
       "       ...,\n",
       "       [0.49411765, 0.50588235, 0.5254902 , ..., 0.43921569, 0.47058824,\n",
       "        0.46666667],\n",
       "       [0.49803922, 0.46666667, 0.49019608, ..., 0.42745098, 0.45490196,\n",
       "        0.4627451 ],\n",
       "       [0.54901961, 0.45882353, 0.48627451, ..., 0.42352941, 0.43137255,\n",
       "        0.45490196]])"
      ]
     },
     "execution_count": 8,
     "metadata": {},
     "output_type": "execute_result"
    }
   ],
   "source": [
    "train_images[0]"
   ]
  },
  {
   "cell_type": "code",
   "execution_count": 9,
   "metadata": {},
   "outputs": [
    {
     "name": "stdout",
     "output_type": "stream",
     "text": [
      "Epoch 1/50\n",
      "150/150 [==============================] - 80s 531ms/step - loss: 0.6565 - accuracy: 0.6241 - val_loss: 0.8044 - val_accuracy: 0.0000e+00\n",
      "Epoch 2/50\n",
      "150/150 [==============================] - 80s 535ms/step - loss: 0.5848 - accuracy: 0.6919 - val_loss: 0.4338 - val_accuracy: 0.8671\n",
      "Epoch 3/50\n",
      "150/150 [==============================] - 78s 523ms/step - loss: 0.4833 - accuracy: 0.7956 - val_loss: 0.3517 - val_accuracy: 0.7871\n",
      "Epoch 4/50\n",
      "150/150 [==============================] - 79s 526ms/step - loss: 0.3980 - accuracy: 0.8643 - val_loss: 0.2372 - val_accuracy: 0.8740\n",
      "Epoch 5/50\n",
      "150/150 [==============================] - 79s 527ms/step - loss: 0.3511 - accuracy: 0.9002 - val_loss: 0.1954 - val_accuracy: 0.8969\n",
      "Epoch 6/50\n",
      "150/150 [==============================] - 79s 529ms/step - loss: 0.3215 - accuracy: 0.9195 - val_loss: 0.1241 - val_accuracy: 0.9423\n",
      "Epoch 7/50\n",
      "150/150 [==============================] - 80s 533ms/step - loss: 0.2985 - accuracy: 0.9293 - val_loss: 0.1145 - val_accuracy: 0.9413\n",
      "Epoch 8/50\n",
      "150/150 [==============================] - 81s 543ms/step - loss: 0.2870 - accuracy: 0.9333 - val_loss: 0.1330 - val_accuracy: 0.9392\n",
      "Epoch 9/50\n",
      "150/150 [==============================] - 82s 549ms/step - loss: 0.2759 - accuracy: 0.9364 - val_loss: 0.0713 - val_accuracy: 0.9654\n",
      "Epoch 10/50\n",
      "150/150 [==============================] - 81s 541ms/step - loss: 0.2625 - accuracy: 0.9391 - val_loss: 0.0563 - val_accuracy: 0.9746\n",
      "Epoch 11/50\n",
      "150/150 [==============================] - 82s 546ms/step - loss: 0.2545 - accuracy: 0.9432 - val_loss: 0.0692 - val_accuracy: 0.9673\n",
      "Epoch 12/50\n",
      "150/150 [==============================] - 82s 547ms/step - loss: 0.2440 - accuracy: 0.9446 - val_loss: 0.0525 - val_accuracy: 0.9742\n",
      "Epoch 13/50\n",
      "150/150 [==============================] - 82s 548ms/step - loss: 0.2369 - accuracy: 0.9446 - val_loss: 0.0408 - val_accuracy: 0.9806\n",
      "Epoch 14/50\n",
      "150/150 [==============================] - 81s 543ms/step - loss: 0.2305 - accuracy: 0.9453 - val_loss: 0.0382 - val_accuracy: 0.9815\n",
      "Epoch 15/50\n",
      "150/150 [==============================] - 83s 553ms/step - loss: 0.2276 - accuracy: 0.9455 - val_loss: 0.0384 - val_accuracy: 0.9779\n",
      "Epoch 16/50\n",
      "150/150 [==============================] - 83s 555ms/step - loss: 0.2168 - accuracy: 0.9506 - val_loss: 0.0292 - val_accuracy: 0.9842\n",
      "Epoch 17/50\n",
      "150/150 [==============================] - 85s 569ms/step - loss: 0.2154 - accuracy: 0.9471 - val_loss: 0.0252 - val_accuracy: 0.9923\n",
      "Epoch 18/50\n",
      "150/150 [==============================] - 83s 552ms/step - loss: 0.2156 - accuracy: 0.9448 - val_loss: 0.0228 - val_accuracy: 0.9929\n",
      "Epoch 19/50\n",
      "150/150 [==============================] - 84s 562ms/step - loss: 0.2086 - accuracy: 0.9484 - val_loss: 0.0337 - val_accuracy: 0.9815\n",
      "Epoch 20/50\n",
      "150/150 [==============================] - 86s 577ms/step - loss: 0.2052 - accuracy: 0.9474 - val_loss: 0.0222 - val_accuracy: 0.9933\n",
      "Epoch 21/50\n",
      "150/150 [==============================] - 85s 568ms/step - loss: 0.1999 - accuracy: 0.9492 - val_loss: 0.0136 - val_accuracy: 0.9973\n",
      "Epoch 22/50\n",
      "150/150 [==============================] - 88s 585ms/step - loss: 0.1990 - accuracy: 0.9490 - val_loss: 0.0256 - val_accuracy: 0.9912\n",
      "Epoch 23/50\n",
      "150/150 [==============================] - 90s 599ms/step - loss: 0.1937 - accuracy: 0.9518 - val_loss: 0.0235 - val_accuracy: 0.9927\n",
      "Epoch 24/50\n",
      "150/150 [==============================] - 86s 576ms/step - loss: 0.1946 - accuracy: 0.9469 - val_loss: 0.0114 - val_accuracy: 0.9973\n",
      "Epoch 25/50\n",
      "150/150 [==============================] - 86s 575ms/step - loss: 0.1902 - accuracy: 0.9521 - val_loss: 0.0127 - val_accuracy: 0.9973\n",
      "Epoch 26/50\n",
      "150/150 [==============================] - 86s 573ms/step - loss: 0.1871 - accuracy: 0.9486 - val_loss: 0.0126 - val_accuracy: 0.9971\n",
      "Epoch 27/50\n",
      "150/150 [==============================] - 86s 572ms/step - loss: 0.1844 - accuracy: 0.9488 - val_loss: 0.0133 - val_accuracy: 0.9973\n",
      "Epoch 28/50\n",
      "150/150 [==============================] - 86s 571ms/step - loss: 0.1840 - accuracy: 0.9490 - val_loss: 0.0087 - val_accuracy: 0.9977\n",
      "Epoch 29/50\n",
      "150/150 [==============================] - 85s 569ms/step - loss: 0.1855 - accuracy: 0.9466 - val_loss: 0.0086 - val_accuracy: 0.9973\n",
      "Epoch 30/50\n",
      "150/150 [==============================] - 86s 575ms/step - loss: 0.1812 - accuracy: 0.9473 - val_loss: 0.0073 - val_accuracy: 0.9977\n",
      "Epoch 31/50\n",
      "150/150 [==============================] - 85s 565ms/step - loss: 0.1768 - accuracy: 0.9489 - val_loss: 0.0093 - val_accuracy: 0.9977\n",
      "Epoch 32/50\n",
      "150/150 [==============================] - 86s 571ms/step - loss: 0.1767 - accuracy: 0.9489 - val_loss: 0.0070 - val_accuracy: 0.9977\n",
      "Epoch 33/50\n",
      "150/150 [==============================] - 87s 577ms/step - loss: 0.1755 - accuracy: 0.9488 - val_loss: 0.0052 - val_accuracy: 0.9977\n",
      "Epoch 34/50\n",
      "150/150 [==============================] - 84s 559ms/step - loss: 0.1747 - accuracy: 0.9498 - val_loss: 0.0056 - val_accuracy: 0.9977\n",
      "Epoch 35/50\n",
      "150/150 [==============================] - 84s 561ms/step - loss: 0.1691 - accuracy: 0.9501 - val_loss: 0.0083 - val_accuracy: 0.9979\n",
      "Epoch 36/50\n",
      "150/150 [==============================] - 86s 574ms/step - loss: 0.1727 - accuracy: 0.9481 - val_loss: 0.0042 - val_accuracy: 0.9983\n",
      "Epoch 37/50\n",
      "150/150 [==============================] - 85s 565ms/step - loss: 0.1659 - accuracy: 0.9508 - val_loss: 0.0069 - val_accuracy: 0.9983\n",
      "Epoch 38/50\n",
      "150/150 [==============================] - 84s 561ms/step - loss: 0.1661 - accuracy: 0.9499 - val_loss: 0.0034 - val_accuracy: 0.9983\n",
      "Epoch 39/50\n",
      "150/150 [==============================] - 84s 563ms/step - loss: 0.1620 - accuracy: 0.9524 - val_loss: 0.0027 - val_accuracy: 0.9983\n",
      "Epoch 40/50\n",
      "150/150 [==============================] - 85s 568ms/step - loss: 0.1628 - accuracy: 0.9499 - val_loss: 0.0027 - val_accuracy: 0.9983\n",
      "Epoch 41/50\n",
      "150/150 [==============================] - 84s 562ms/step - loss: 0.1602 - accuracy: 0.9514 - val_loss: 0.0031 - val_accuracy: 0.9983\n",
      "Epoch 42/50\n",
      "150/150 [==============================] - 84s 559ms/step - loss: 0.1603 - accuracy: 0.9502 - val_loss: 0.0034 - val_accuracy: 0.9983\n",
      "Epoch 43/50\n",
      "150/150 [==============================] - 85s 564ms/step - loss: 0.1603 - accuracy: 0.9510 - val_loss: 0.0079 - val_accuracy: 0.9983\n",
      "Epoch 44/50\n",
      "150/150 [==============================] - 84s 561ms/step - loss: 0.1535 - accuracy: 0.9539 - val_loss: 0.0023 - val_accuracy: 0.9987\n",
      "Epoch 45/50\n",
      "150/150 [==============================] - 84s 561ms/step - loss: 0.1556 - accuracy: 0.9521 - val_loss: 0.0024 - val_accuracy: 0.9983\n",
      "Epoch 46/50\n",
      "150/150 [==============================] - 84s 559ms/step - loss: 0.1529 - accuracy: 0.9546 - val_loss: 0.0188 - val_accuracy: 0.9919\n",
      "Epoch 47/50\n",
      "150/150 [==============================] - 84s 563ms/step - loss: 0.1583 - accuracy: 0.9494 - val_loss: 0.0022 - val_accuracy: 0.9983\n",
      "Epoch 48/50\n",
      "150/150 [==============================] - 84s 559ms/step - loss: 0.1495 - accuracy: 0.9544 - val_loss: 0.0038 - val_accuracy: 0.9983\n",
      "Epoch 49/50\n",
      "150/150 [==============================] - 84s 558ms/step - loss: 0.1486 - accuracy: 0.9548 - val_loss: 0.0024 - val_accuracy: 0.9987\n",
      "Epoch 50/50\n",
      "150/150 [==============================] - 84s 560ms/step - loss: 0.1492 - accuracy: 0.9538 - val_loss: 0.0022 - val_accuracy: 0.9983\n"
     ]
    }
   ],
   "source": [
    "from keras.optimizers import Adam \n",
    "EPOCHS = 6\n",
    "IMG_WIDTH = 128\n",
    "IMG_HEIGHT = 128\n",
    "NUM_CATEGORIES = 2\n",
    "TEST_SIZE = 0.2\n",
    "\n",
    "\n",
    "\n",
    "model = tf.keras.models.Sequential([\n",
    "    tf.keras.layers.Conv2D(32, (3, 3),padding='same', activation=\"relu\", input_shape=(128, 128,1)),\n",
    "   # tf.keras.layers.Conv2D(64, (3, 3), activation=\"relu\"),\n",
    "    tf.keras.layers.MaxPooling2D(pool_size=(2, 2)),\n",
    "\n",
    "    \n",
    "    tf.keras.layers.Conv2D(16, (3, 3),padding='same', activation=\"relu\"),\n",
    "   # tf.keras.layers.Conv2D(64, (3, 3), activation=\"relu\"),\n",
    "    tf.keras.layers.MaxPooling2D(pool_size=(2, 2)),\n",
    "\n",
    "    \n",
    "    #tf.keras.layers.Conv2D(64, (3, 3), activation=\"relu\"),\n",
    "    #tf.keras.layers.MaxPooling2D(pool_size=(2, 2)),\n",
    "\n",
    "    \n",
    "   \n",
    "    tf.keras.layers.Flatten(),\n",
    "    tf.keras.layers.Dense(8, activation=\"relu\"),\n",
    "    tf.keras.layers.Dropout(0.5),\n",
    "    tf.keras.layers.Dense(NUM_CATEGORIES, activation=\"softmax\")\n",
    "])\n",
    "\n",
    "model.compile(optimizer = Adam(0.0001), loss = 'sparse_categorical_crossentropy', metrics=['accuracy'])\n",
    "\n",
    "history = model.fit(np.asarray(train_images, dtype=np.float32), np.asarray(train_labels), batch_size=128, epochs=50, validation_split=0.2, shuffle=True)\n"
   ]
  },
  {
   "cell_type": "markdown",
   "metadata": {},
   "source": [
    "### Model Evaluation\n"
   ]
  },
  {
   "cell_type": "code",
   "execution_count": 10,
   "metadata": {},
   "outputs": [],
   "source": [
    "from sklearn.metrics import accuracy_score\n",
    "from sklearn.metrics import confusion_matrix\n",
    "from sklearn.metrics import precision_score\n",
    "from sklearn.metrics import recall_score\n",
    "from sklearn.metrics import f1_score\n",
    "from sklearn.metrics import classification_report\n",
    "from sklearn.metrics import roc_curve, auc"
   ]
  },
  {
   "cell_type": "code",
   "execution_count": 17,
   "metadata": {},
   "outputs": [],
   "source": [
    "test_images = np.array(test_images)\n",
    "test_images = test_images.reshape(-1, 128, 128, 1)"
   ]
  },
  {
   "cell_type": "code",
   "execution_count": 19,
   "metadata": {},
   "outputs": [
    {
     "name": "stdout",
     "output_type": "stream",
     "text": [
      "188/188 [==============================] - 7s 38ms/step - loss: 0.0128 - accuracy: 0.9960\n",
      "Test loss: 0.012762091122567654/Test accuracy: 0.9959999918937683\n"
     ]
    }
   ],
   "source": [
    "# evaluate how well the model did to predict the labels on the test images\n",
    "score = model.evaluate(test_images, np.array(test_labels))\n",
    "print(f'Test loss: {score[0]}/Test accuracy: {score[1]}')"
   ]
  },
  {
   "cell_type": "code",
   "execution_count": 20,
   "metadata": {},
   "outputs": [
    {
     "name": "stdout",
     "output_type": "stream",
     "text": [
      "188/188 [==============================] - 7s 37ms/step\n"
     ]
    }
   ],
   "source": [
    "predict = model.predict(test_images)"
   ]
  },
  {
   "cell_type": "code",
   "execution_count": 27,
   "metadata": {},
   "outputs": [],
   "source": [
    "# assign classes for high probabilities\n",
    "predict_df = pd.DataFrame(predict)\n",
    "class_predictions = predict_df.idxmax(axis=1)"
   ]
  },
  {
   "cell_type": "code",
   "execution_count": 28,
   "metadata": {},
   "outputs": [
    {
     "name": "stdout",
     "output_type": "stream",
     "text": [
      "Accuracy: 1.00\n"
     ]
    }
   ],
   "source": [
    "accuracy = accuracy_score(test_labels, class_predictions)\n",
    "print(f\"Accuracy: {accuracy:.2f}\")\n"
   ]
  },
  {
   "cell_type": "code",
   "execution_count": 29,
   "metadata": {},
   "outputs": [
    {
     "data": {
      "text/plain": [
       "array([[2976,   24],\n",
       "       [   0, 3000]])"
      ]
     },
     "execution_count": 29,
     "metadata": {},
     "output_type": "execute_result"
    }
   ],
   "source": [
    "conf_matrix = confusion_matrix(test_labels, class_predictions)\n",
    "conf_matrix"
   ]
  },
  {
   "cell_type": "code",
   "execution_count": 30,
   "metadata": {},
   "outputs": [
    {
     "data": {
      "text/plain": [
       "0.9920634920634921"
      ]
     },
     "execution_count": 30,
     "metadata": {},
     "output_type": "execute_result"
    }
   ],
   "source": [
    "precision = precision_score(test_labels, class_predictions)\n",
    "precision"
   ]
  },
  {
   "cell_type": "code",
   "execution_count": 31,
   "metadata": {},
   "outputs": [
    {
     "name": "stdout",
     "output_type": "stream",
     "text": [
      "              precision    recall  f1-score   support\n",
      "\n",
      "           0       1.00      0.99      1.00      3000\n",
      "           1       0.99      1.00      1.00      3000\n",
      "\n",
      "    accuracy                           1.00      6000\n",
      "   macro avg       1.00      1.00      1.00      6000\n",
      "weighted avg       1.00      1.00      1.00      6000\n",
      "\n"
     ]
    }
   ],
   "source": [
    "# get precision, recall, f1-score values \n",
    "print(classification_report(test_labels, class_predictions))"
   ]
  },
  {
   "cell_type": "code",
   "execution_count": 32,
   "metadata": {},
   "outputs": [],
   "source": [
    "from sklearn.metrics import roc_curve\n",
    "\n",
    "fpr, tpr, thresholds = roc_curve(test_labels, predict[:, 1])"
   ]
  },
  {
   "cell_type": "code",
   "execution_count": 33,
   "metadata": {},
   "outputs": [
    {
     "data": {
      "image/png": "[encoded data removed]",
      "text/plain": [
       "<Figure size 800x600 with 1 Axes>"
      ]
     },
     "metadata": {},
     "output_type": "display_data"
    }
   ],
   "source": [
    "def plot_roc_curve(fpr, tpr, label=None):\n",
    "    plt.plot(fpr, tpr, linewidth=2, label=label)\n",
    "    plt.plot([0, 1], [0, 1], 'k--') # dashed diagonal\n",
    "    plt.axis([0, 1, 0, 1])                                    # Not shown in the book\n",
    "    plt.xlabel('False Positive Rate (Fall-Out)', fontsize=16) # Not shown\n",
    "    plt.ylabel('True Positive Rate (Recall)', fontsize=16)    # Not shown\n",
    "    plt.grid(True)                                            # Not shown\n",
    "\n",
    "plt.figure(figsize=(8, 6))                         # Not shown\n",
    "plot_roc_curve(fpr, tpr)\n",
    "plt.plot([4.837e-3, 4.837e-3], [0., 0.4368], \"r:\") # Not shown\n",
    "plt.plot([0.0, 4.837e-3], [0.4368, 0.4368], \"r:\")  # Not shown\n",
    "plt.plot([4.837e-3], [0.4368], \"ro\")               # Not shown\n",
    "plt.show()"
   ]
  },
  {
   "cell_type": "markdown",
   "metadata": {},
   "source": [
    "## SGD Classifier "
   ]
  },
  {
   "cell_type": "code",
   "execution_count": 35,
   "metadata": {},
   "outputs": [],
   "source": [
    "train_images = np.array(train_images)\n",
    "train_images = train_images.reshape(train_images.shape[0], -1)"
   ]
  },
  {
   "cell_type": "code",
   "execution_count": 36,
   "metadata": {},
   "outputs": [
    {
     "data": {
      "text/html": [
       "<style>#sk-container-id-1 {color: black;}#sk-container-id-1 pre{padding: 0;}#sk-container-id-1 div.sk-toggleable {background-color: white;}#sk-container-id-1 label.sk-toggleable__label {cursor: pointer;display: block;width: 100%;margin-bottom: 0;padding: 0.3em;box-sizing: border-box;text-align: center;}#sk-container-id-1 label.sk-toggleable__label-arrow:before {content: \"▸\";float: left;margin-right: 0.25em;color: #696969;}#sk-container-id-1 label.sk-toggleable__label-arrow:hover:before {color: black;}#sk-container-id-1 div.sk-estimator:hover label.sk-toggleable__label-arrow:before {color: black;}#sk-container-id-1 div.sk-toggleable__content {max-height: 0;max-width: 0;overflow: hidden;text-align: left;background-color: #f0f8ff;}#sk-container-id-1 div.sk-toggleable__content pre {margin: 0.2em;color: black;border-radius: 0.25em;background-color: #f0f8ff;}#sk-container-id-1 input.sk-toggleable__control:checked~div.sk-toggleable__content {max-height: 200px;max-width: 100%;overflow: auto;}#sk-container-id-1 input.sk-toggleable__control:checked~label.sk-toggleable__label-arrow:before {content: \"▾\";}#sk-container-id-1 div.sk-estimator input.sk-toggleable__control:checked~label.sk-toggleable__label {background-color: #d4ebff;}#sk-container-id-1 div.sk-label input.sk-toggleable__control:checked~label.sk-toggleable__label {background-color: #d4ebff;}#sk-container-id-1 input.sk-hidden--visually {border: 0;clip: rect(1px 1px 1px 1px);clip: rect(1px, 1px, 1px, 1px);height: 1px;margin: -1px;overflow: hidden;padding: 0;position: absolute;width: 1px;}#sk-container-id-1 div.sk-estimator {font-family: monospace;background-color: #f0f8ff;border: 1px dotted black;border-radius: 0.25em;box-sizing: border-box;margin-bottom: 0.5em;}#sk-container-id-1 div.sk-estimator:hover {background-color: #d4ebff;}#sk-container-id-1 div.sk-parallel-item::after {content: \"\";width: 100%;border-bottom: 1px solid gray;flex-grow: 1;}#sk-container-id-1 div.sk-label:hover label.sk-toggleable__label {background-color: #d4ebff;}#sk-container-id-1 div.sk-serial::before {content: \"\";position: absolute;border-left: 1px solid gray;box-sizing: border-box;top: 0;bottom: 0;left: 50%;z-index: 0;}#sk-container-id-1 div.sk-serial {display: flex;flex-direction: column;align-items: center;background-color: white;padding-right: 0.2em;padding-left: 0.2em;position: relative;}#sk-container-id-1 div.sk-item {position: relative;z-index: 1;}#sk-container-id-1 div.sk-parallel {display: flex;align-items: stretch;justify-content: center;background-color: white;position: relative;}#sk-container-id-1 div.sk-item::before, #sk-container-id-1 div.sk-parallel-item::before {content: \"\";position: absolute;border-left: 1px solid gray;box-sizing: border-box;top: 0;bottom: 0;left: 50%;z-index: -1;}#sk-container-id-1 div.sk-parallel-item {display: flex;flex-direction: column;z-index: 1;position: relative;background-color: white;}#sk-container-id-1 div.sk-parallel-item:first-child::after {align-self: flex-end;width: 50%;}#sk-container-id-1 div.sk-parallel-item:last-child::after {align-self: flex-start;width: 50%;}#sk-container-id-1 div.sk-parallel-item:only-child::after {width: 0;}#sk-container-id-1 div.sk-dashed-wrapped {border: 1px dashed gray;margin: 0 0.4em 0.5em 0.4em;box-sizing: border-box;padding-bottom: 0.4em;background-color: white;}#sk-container-id-1 div.sk-label label {font-family: monospace;font-weight: bold;display: inline-block;line-height: 1.2em;}#sk-container-id-1 div.sk-label-container {text-align: center;}#sk-container-id-1 div.sk-container {/* jupyter's `normalize.less` sets `[hidden] { display: none; }` but bootstrap.min.css set `[hidden] { display: none !important; }` so we also need the `!important` here to be able to override the default hidden behavior on the sphinx rendered scikit-learn.org. See: https://github.com/scikit-learn/scikit-learn/issues/21755 */display: inline-block !important;position: relative;}#sk-container-id-1 div.sk-text-repr-fallback {display: none;}</style><div id=\"sk-container-id-1\" class=\"sk-top-container\"><div class=\"sk-text-repr-fallback\"><pre>SGDClassifier(random_state=42)</pre><b>In a Jupyter environment, please rerun this cell to show the HTML representation or trust the notebook. <br />On GitHub, the HTML representation is unable to render, please try loading this page with nbviewer.org.</b></div><div class=\"sk-container\" hidden><div class=\"sk-item\"><div class=\"sk-estimator sk-toggleable\"><input class=\"sk-toggleable__control sk-hidden--visually\" id=\"sk-estimator-id-1\" type=\"checkbox\" checked><label for=\"sk-estimator-id-1\" class=\"sk-toggleable__label sk-toggleable__label-arrow\">SGDClassifier</label><div class=\"sk-toggleable__content\"><pre>SGDClassifier(random_state=42)</pre></div></div></div></div></div>"
      ],
      "text/plain": [
       "SGDClassifier(random_state=42)"
      ]
     },
     "execution_count": 36,
     "metadata": {},
     "output_type": "execute_result"
    }
   ],
   "source": [
    "from sklearn.linear_model import SGDClassifier\n",
    "\n",
    "sgd_clf = SGDClassifier(max_iter=1000, tol=1e-3, random_state=42)\n",
    "sgd_clf.fit(train_images, train_labels)"
   ]
  },
  {
   "cell_type": "code",
   "execution_count": 37,
   "metadata": {},
   "outputs": [],
   "source": [
    "test_images = test_images.reshape(test_images.shape[0], -1)"
   ]
  },
  {
   "cell_type": "code",
   "execution_count": 38,
   "metadata": {},
   "outputs": [
    {
     "data": {
      "text/plain": [
       "array([1, 1, 1, ..., 0, 0, 0])"
      ]
     },
     "execution_count": 38,
     "metadata": {},
     "output_type": "execute_result"
    }
   ],
   "source": [
    "sgd_clf.predict(test_images)"
   ]
  },
  {
   "cell_type": "markdown",
   "metadata": {},
   "source": [
    "### Model Evaluation"
   ]
  },
  {
   "cell_type": "code",
   "execution_count": 39,
   "metadata": {},
   "outputs": [],
   "source": [
    "predictions = sgd_clf.predict(test_images)"
   ]
  },
  {
   "cell_type": "code",
   "execution_count": 40,
   "metadata": {},
   "outputs": [
    {
     "data": {
      "text/plain": [
       "0.8735"
      ]
     },
     "execution_count": 40,
     "metadata": {},
     "output_type": "execute_result"
    }
   ],
   "source": [
    "from sklearn.metrics import accuracy_score\n",
    "\n",
    "# accuracy\n",
    "accuracy = accuracy_score(test_labels, predictions)\n",
    "accuracy"
   ]
  },
  {
   "cell_type": "code",
   "execution_count": 41,
   "metadata": {},
   "outputs": [
    {
     "data": {
      "text/plain": [
       "array([[2948,   52],\n",
       "       [ 707, 2293]])"
      ]
     },
     "execution_count": 41,
     "metadata": {},
     "output_type": "execute_result"
    }
   ],
   "source": [
    "from sklearn.metrics import confusion_matrix\n",
    "\n",
    "# confusion matrix\n",
    "confusion_matrix = confusion_matrix(test_labels, predictions)\n",
    "confusion_matrix"
   ]
  },
  {
   "cell_type": "code",
   "execution_count": 42,
   "metadata": {},
   "outputs": [],
   "source": [
    "tp = confusion_matrix[0,0]\n",
    "tn = confusion_matrix[1,1]\n",
    "fp = confusion_matrix[1,0]\n",
    "fn = confusion_matrix[0,1]"
   ]
  },
  {
   "cell_type": "code",
   "execution_count": 43,
   "metadata": {},
   "outputs": [
    {
     "data": {
      "text/plain": [
       "0.9826666666666667"
      ]
     },
     "execution_count": 43,
     "metadata": {},
     "output_type": "execute_result"
    }
   ],
   "source": [
    "tp_rate = tp / (tp + fn)\n",
    "tp_rate"
   ]
  },
  {
   "cell_type": "code",
   "execution_count": 44,
   "metadata": {},
   "outputs": [
    {
     "data": {
      "text/plain": [
       "0.23566666666666666"
      ]
     },
     "execution_count": 44,
     "metadata": {},
     "output_type": "execute_result"
    }
   ],
   "source": [
    "fp_rate = fp / (fp + tn)\n",
    "fp_rate"
   ]
  },
  {
   "cell_type": "code",
   "execution_count": 45,
   "metadata": {},
   "outputs": [],
   "source": [
    "from sklearn.metrics import precision_score, recall_score, f1_score"
   ]
  },
  {
   "cell_type": "code",
   "execution_count": 46,
   "metadata": {},
   "outputs": [
    {
     "data": {
      "text/plain": [
       "0.9778251599147122"
      ]
     },
     "execution_count": 46,
     "metadata": {},
     "output_type": "execute_result"
    }
   ],
   "source": [
    "precision_2 = precision_score(test_labels, predictions)\n",
    "precision_2"
   ]
  },
  {
   "cell_type": "code",
   "execution_count": 47,
   "metadata": {},
   "outputs": [
    {
     "data": {
      "text/plain": [
       "0.7643333333333333"
      ]
     },
     "execution_count": 47,
     "metadata": {},
     "output_type": "execute_result"
    }
   ],
   "source": [
    "recall_2 = recall_score(test_labels, predictions)\n",
    "recall_2"
   ]
  },
  {
   "cell_type": "code",
   "execution_count": 48,
   "metadata": {},
   "outputs": [
    {
     "data": {
      "text/plain": [
       "0.85799812909261"
      ]
     },
     "execution_count": 48,
     "metadata": {},
     "output_type": "execute_result"
    }
   ],
   "source": [
    "f1 = f1_score(test_labels, predictions)\n",
    "f1"
   ]
  },
  {
   "cell_type": "code",
   "execution_count": 49,
   "metadata": {},
   "outputs": [],
   "source": [
    "from sklearn.metrics import roc_curve\n",
    "\n",
    "fpr, tpr, thresholds = roc_curve(test_labels, sgd_clf.decision_function(test_images))"
   ]
  },
  {
   "cell_type": "code",
   "execution_count": 50,
   "metadata": {},
   "outputs": [
    {
     "data": {
      "image/png": "[encoded data removed]",
      "text/plain": [
       "<Figure size 800x600 with 1 Axes>"
      ]
     },
     "metadata": {},
     "output_type": "display_data"
    }
   ],
   "source": [
    "def plot_roc_curve(fpr, tpr, label=None):\n",
    "    plt.plot(fpr, tpr, linewidth=2, label=label)\n",
    "    plt.plot([0, 1], [0, 1], 'k--') # dashed diagonal\n",
    "    plt.axis([0, 1, 0, 1])                                    # Not shown in the book\n",
    "    plt.xlabel('False Positive Rate (Fall-Out)', fontsize=16) # Not shown\n",
    "    plt.ylabel('True Positive Rate (Recall)', fontsize=16)    # Not shown\n",
    "    plt.grid(True)                                            # Not shown\n",
    "\n",
    "plt.figure(figsize=(8, 6))                         # Not shown\n",
    "plot_roc_curve(fpr, tpr)\n",
    "plt.plot([4.837e-3, 4.837e-3], [0., 0.4368], \"r:\") # Not shown\n",
    "plt.plot([0.0, 4.837e-3], [0.4368, 0.4368], \"r:\")  # Not shown\n",
    "plt.plot([4.837e-3], [0.4368], \"ro\")               # Not shown\n",
    "plt.show()"
   ]
  }
 ],
 "metadata": {
  "colab": {
   "include_colab_link": true,
   "provenance": []
  },
  "kernelspec": {
   "display_name": "Python 3 (ipykernel)",
   "language": "python",
   "name": "python3"
  },
  "language_info": {
   "codemirror_mode": {
    "name": "ipython",
    "version": 3
   },
   "file_extension": ".py",
   "mimetype": "text/x-python",
   "name": "python",
   "nbconvert_exporter": "python",
   "pygments_lexer": "ipython3",
   "version": "3.9.6"
  }
 },
 "nbformat": 4,
 "nbformat_minor": 1
}
