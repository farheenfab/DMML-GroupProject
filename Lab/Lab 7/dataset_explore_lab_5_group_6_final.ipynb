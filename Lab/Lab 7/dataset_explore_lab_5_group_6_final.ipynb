{
 "cells": [
  {
   "cell_type": "markdown",
   "metadata": {},
   "source": [
    "# Lab 5\n"
   ]
  },
  {
   "cell_type": "markdown",
   "metadata": {},
   "source": [
    "## JMuBEN2 dataset\n"
   ]
  },
  {
   "cell_type": "markdown",
   "metadata": {},
   "source": [
    "(https://data.mendeley.com/datasets/tgv3zb82nd/1)\n",
    "\n",
    "Image dataset taken from an Arabica coffee plantation. The image dataset contains collection of healthy and miner coffee leaves.\n",
    "\n",
    "We used the same dataset that we used in Lab 4."
   ]
  },
  {
   "cell_type": "markdown",
   "metadata": {},
   "source": [
    "# Loading and Spliting the dataset "
   ]
  },
  {
   "cell_type": "code",
   "execution_count": 1,
   "metadata": {
    "id": "wNVZNNGPpUsJ"
   },
   "outputs": [],
   "source": [
    "import os\n",
    "import requests\n",
    "import zipfile\n",
    "import numpy as np\n",
    "\n",
    "dataset_url = 'https://github.com/ishaqmarashy/DATALFS/raw/main/JMuBEN.zip'\n",
    "dataset_dir = './JMuBEN'\n",
    "\n",
    "# create directory for dataset if it does not exist\n",
    "if not os.path.exists(dataset_dir):\n",
    "    os.makedirs(dataset_dir)\n",
    "    \n",
    "# append JMuBEN.zip to the end of the path (this is where we download the file to)\n",
    "zip_file_path = os.path.join(dataset_dir, 'JMuBEN.zip')\n",
    "\n",
    "\n",
    "# check if file is downloaded already\n",
    "if not os.path.exists(zip_file_path):\n",
    "    \n",
    "    # file is not downloaded so fetch the file\n",
    "    response = requests.get(dataset_url)\n",
    "    \n",
    "    # write file to storage which is recieved from the response\n",
    "    with open(zip_file_path, 'wb') as zip_file:\n",
    "        zip_file.write(response.content)\n",
    "        \n",
    "    # unzip to zip file path\n",
    "    with zipfile.ZipFile(zip_file_path, 'r') as zip_ref:\n",
    "        zip_ref.extractall(dataset_dir)\n",
    "\n",
    "# within the concat train and test to become ./JMuBEN/train and JMuBEN ./JMuBEN/test\n",
    "train_dir = os.path.join(dataset_dir, 'train')\n",
    "test_dir = os.path.join(dataset_dir, 'test')"
   ]
  },
  {
   "cell_type": "code",
   "execution_count": 2,
   "metadata": {
    "id": "wNVZNNGPpUsJ"
   },
   "outputs": [],
   "source": [
    "def load_images_and_labels(directory):\n",
    "    images = []\n",
    "    labels = []\n",
    "    \n",
    "    # get subdirectories Healthy and Miner\n",
    "    \n",
    "    for class_name in os.listdir(directory):\n",
    "        \n",
    "        # concat subdirectory to get full path\n",
    "        class_dir = os.path.join(directory, class_name)\n",
    "        # assign labels using class subdirectory\n",
    "        # label is determined by filepath\n",
    "        label = 0 if class_name == 'Miner' else 1\n",
    "        \n",
    "        # append labels and image paths to labels and images respectively\n",
    "        for filename in os.listdir(class_dir):\n",
    "            images.append(os.path.join(class_dir, filename))\n",
    "            labels.append(label)\n",
    "            \n",
    "    return images, labels\n",
    "\n",
    "# load file directories and their labels\n",
    "train_images_dir, train_labels = load_images_and_labels(train_dir)\n",
    "test_images_dir, test_labels = load_images_and_labels(test_dir)"
   ]
  },
  {
   "cell_type": "code",
   "execution_count": 3,
   "metadata": {
    "colab": {
     "base_uri": "https://localhost:8080/"
    },
    "id": "-wWJu4XIpUsK",
    "outputId": "b5dc0d20-b7a1-4b1b-a1b2-dfe19da8c1ef"
   },
   "outputs": [
    {
     "name": "stdout",
     "output_type": "stream",
     "text": [
      "Train images:24000  Labels:24000\n",
      "Test images:6000  Labels:6000\n"
     ]
    }
   ],
   "source": [
    "# print the number of images and labels\n",
    "\n",
    "print(f\"Train images:{len(train_images_dir)}  Labels:{len(train_labels)}\")\n",
    "print(f\"Test images:{len(test_images_dir)}  Labels:{len(test_labels)}\")\n"
   ]
  },
  {
   "cell_type": "markdown",
   "metadata": {},
   "source": [
    "# Pre-processing and Normalization"
   ]
  },
  {
   "cell_type": "markdown",
   "metadata": {},
   "source": [
    "Images in the dataset were converted to grayscale and resized to 128x128"
   ]
  },
  {
   "cell_type": "markdown",
   "metadata": {},
   "source": [
    "Tried loading as described https://www.analyticsvidhya.com/blog/2021/07/step-by-step-guide-for-image-classification-on-custom-datasets/\n",
    "\n",
    "https://towardsdatascience.com/pipelines-custom-transformers-in-scikit-learn-the-step-by-step-guide-with-python-code-4a7d9b068156"
   ]
  },
  {
   "cell_type": "code",
   "execution_count": 4,
   "metadata": {
    "id": "6lxOlSPGrUn8"
   },
   "outputs": [],
   "source": [
    "import cv2\n",
    "from sklearn.pipeline import Pipeline\n",
    "from sklearn.preprocessing import FunctionTransformer\n",
    "\n",
    "def load_grayscale_images(image_paths):\n",
    "    loaded_images = []\n",
    "    for image_path in image_paths:\n",
    "        img = cv2.imread(image_path, cv2.IMREAD_GRAYSCALE)  #  grayscale\n",
    "        loaded_images.append(img)\n",
    "    return loaded_images\n",
    "\n",
    "def resize_images(images_to_resize):\n",
    "    resized_images = []\n",
    "    for img in images_to_resize:\n",
    "        resized_img = cv2.resize(img, (48, 48))  # resize\n",
    "        resized_images.append(resized_img)\n",
    "    return resized_images\n",
    "\n",
    "def normalize_image(images_to_normalize):\n",
    "    normalized_images = []\n",
    "    for img in images_to_normalize:\n",
    "        normalized_img = img / 255.0  # normalize\n",
    "        normalized_images.append(normalized_img)\n",
    "    return normalized_images\n",
    "\n",
    "image_pipeline = Pipeline(steps=[\n",
    "    ('load_grayscale_images', FunctionTransformer(load_grayscale_images)),\n",
    "    ('resize_images', FunctionTransformer(resize_images)),\n",
    "    ('normalize_image', FunctionTransformer(normalize_image))\n",
    "])\n",
    "\n",
    "\n",
    "train_images=image_pipeline.transform(train_images_dir)\n",
    "test_images=image_pipeline.transform(test_images_dir)"
   ]
  },
  {
   "cell_type": "code",
   "execution_count": 5,
   "metadata": {},
   "outputs": [
    {
     "name": "stdout",
     "output_type": "stream",
     "text": [
      "24000\n",
      "6000\n"
     ]
    }
   ],
   "source": [
    "print(len(train_images))\n",
    "print(len(test_images))"
   ]
  },
  {
   "cell_type": "markdown",
   "metadata": {},
   "source": [
    "# Model Training"
   ]
  },
  {
   "cell_type": "code",
   "execution_count": 6,
   "metadata": {},
   "outputs": [],
   "source": [
    "x_train = train_images\n",
    "\n",
    "train_images = np.array(train_images)\n",
    "train_labels = np.array(train_labels)\n",
    "test_images = np.array(test_images)\n",
    "\n",
    "train_images = train_images.reshape(train_images.shape[0], -1)\n",
    "train_labels = train_labels.reshape(train_images.shape[0], -1)\n",
    "test_images = test_images.reshape(test_images.shape[0], -1)"
   ]
  },
  {
   "cell_type": "markdown",
   "metadata": {},
   "source": [
    "### 1) Multinomial Naive Bayes"
   ]
  },
  {
   "cell_type": "code",
   "execution_count": null,
   "metadata": {},
   "outputs": [],
   "source": [
    "from sklearn.naive_bayes import MultinomialNB\n",
    "clf1 = MultinomialNB(alpha=1.0e-10, force_alpha=True , class_prior=[0.4, 0.6])\n",
    "train_labels = train_labels.ravel()\n",
    "clf1.fit(train_images, train_labels)\n",
    "predictions1 = clf1.predict(test_images)"
   ]
  },
  {
   "cell_type": "markdown",
   "metadata": {},
   "source": [
    "##### Model Evaluation\n"
   ]
  },
  {
   "cell_type": "code",
   "execution_count": null,
   "metadata": {},
   "outputs": [],
   "source": [
    "from sklearn.metrics import accuracy_score\n",
    "\n",
    "# accuracy\n",
    "accuracy = accuracy_score(test_labels, predictions1)\n",
    "print('Accuracy = ', accuracy)"
   ]
  },
  {
   "cell_type": "code",
   "execution_count": null,
   "metadata": {},
   "outputs": [],
   "source": [
    "from sklearn.metrics import confusion_matrix\n",
    "\n",
    "# confusion matrix\n",
    "confusion_matrix = confusion_matrix(test_labels, predictions1)\n",
    "confusion_matrix"
   ]
  },
  {
   "cell_type": "code",
   "execution_count": null,
   "metadata": {},
   "outputs": [],
   "source": [
    "tp = confusion_matrix[0,0]\n",
    "print(\"TP = \", tp)\n",
    "fp = confusion_matrix[1,0]\n",
    "print(\"FP = \", fp)\n",
    "tn = confusion_matrix[1,1]\n",
    "print(\"TN = \", tn)\n",
    "fn = confusion_matrix[0,1]\n",
    "print(\"FN = \", fn)"
   ]
  },
  {
   "cell_type": "code",
   "execution_count": null,
   "metadata": {},
   "outputs": [],
   "source": [
    "sensitivity = tp / (tp + fn)\n",
    "print('Sensitivity = ', sensitivity)\n",
    "\n",
    "specificity = tn/ (fp + tn)\n",
    "print('Specificity = ', specificity)"
   ]
  },
  {
   "cell_type": "code",
   "execution_count": null,
   "metadata": {},
   "outputs": [],
   "source": [
    "from sklearn.metrics import precision_score, recall_score\n",
    "\n",
    "precision = precision_score(test_labels, predictions1)\n",
    "print('Precision = ', precision)\n",
    "\n",
    "recall = recall_score(test_labels, predictions1)\n",
    "print('Recall = ', recall)"
   ]
  },
  {
   "cell_type": "code",
   "execution_count": null,
   "metadata": {},
   "outputs": [],
   "source": [
    "import matplotlib.pyplot as plt\n",
    "from sklearn.metrics import roc_curve, auc\n",
    "\n",
    "# Calculate predicted probabilities for the positive class\n",
    "probabilities = clf1.predict_proba(test_images)[:, 1]\n",
    "\n",
    "# Calculate the ROC curve\n",
    "fpr, tpr, thresholds = roc_curve(test_labels, probabilities)\n",
    "\n",
    "# Calculate the AUC (Area Under the Curve)\n",
    "roc_auc = auc(fpr, tpr)\n",
    "print(\"Area Under Curve = \", roc_auc)\n",
    "\n",
    "# Plot the ROC curve\n",
    "plt.figure(figsize=(8, 6))\n",
    "plt.plot(fpr, tpr, color='darkorange', lw=2, label='ROC curve (area = {:.2f})'.format(roc_auc))\n",
    "plt.plot([0, 1], [0, 1], color='navy', lw=2, linestyle='--')\n",
    "plt.xlim([0.0, 1.0])\n",
    "plt.ylim([0.0, 1.05])\n",
    "plt.xlabel('False Positive Rate')\n",
    "plt.ylabel('True Positive Rate')\n",
    "plt.title('Receiver Operating Characteristic (ROC)')\n",
    "plt.legend(loc='lower right')\n",
    "plt.show()"
   ]
  },
  {
   "cell_type": "markdown",
   "metadata": {},
   "source": [
    "### 2) Gaussian Naive Bayes"
   ]
  },
  {
   "cell_type": "code",
   "execution_count": null,
   "metadata": {},
   "outputs": [],
   "source": [
    "from sklearn.naive_bayes import GaussianNB\n",
    "clf2 = GaussianNB()\n",
    "clf2.fit(train_images, train_labels)\n",
    "predictions2 = clf2.predict(test_images)"
   ]
  },
  {
   "cell_type": "markdown",
   "metadata": {},
   "source": [
    "##### Model Evaluation\n"
   ]
  },
  {
   "cell_type": "code",
   "execution_count": null,
   "metadata": {},
   "outputs": [],
   "source": [
    "# accuracy\n",
    "accuracy = accuracy_score(test_labels, predictions2)\n",
    "print('Accuracy = ', accuracy)"
   ]
  },
  {
   "cell_type": "code",
   "execution_count": null,
   "metadata": {},
   "outputs": [],
   "source": [
    "from sklearn.metrics import confusion_matrix\n",
    "\n",
    "# confusion matrix\n",
    "confusion_matrix = confusion_matrix(test_labels, predictions2)\n",
    "confusion_matrix"
   ]
  },
  {
   "cell_type": "code",
   "execution_count": null,
   "metadata": {},
   "outputs": [],
   "source": [
    "tp = confusion_matrix[0,0]\n",
    "print(\"TP = \", tp)\n",
    "fp = confusion_matrix[1,0]\n",
    "print(\"FP = \", fp)\n",
    "tn = confusion_matrix[1,1]\n",
    "print(\"TN = \", tn)\n",
    "fn = confusion_matrix[0,1]\n",
    "print(\"FN = \", fn)"
   ]
  },
  {
   "cell_type": "code",
   "execution_count": null,
   "metadata": {},
   "outputs": [],
   "source": [
    "sensitivity = tp / (tp + fn)\n",
    "print('Sensitivity = ', sensitivity)\n",
    "\n",
    "specificity = tn/ (fp + tn)\n",
    "print('Specificity = ', specificity)"
   ]
  },
  {
   "cell_type": "code",
   "execution_count": null,
   "metadata": {},
   "outputs": [],
   "source": [
    "precision = precision_score(test_labels, predictions2)\n",
    "print('Precision = ', precision)\n",
    "\n",
    "recall = recall_score(test_labels, predictions2)\n",
    "print('Recall = ', recall)"
   ]
  },
  {
   "cell_type": "code",
   "execution_count": null,
   "metadata": {},
   "outputs": [],
   "source": [
    "# Calculate predicted probabilities for the positive class\n",
    "probabilities = clf2.predict_proba(test_images)[:, 1]\n",
    "\n",
    "# Calculate the ROC curve\n",
    "fpr, tpr, thresholds = roc_curve(test_labels, probabilities)\n",
    "\n",
    "# Calculate the AUC (Area Under the Curve)\n",
    "roc_auc = auc(fpr, tpr)\n",
    "print(\"Area Under Curve = \", roc_auc)\n",
    "\n",
    "# Plot the ROC curve\n",
    "plt.figure(figsize=(8, 6))\n",
    "plt.plot(fpr, tpr, color='darkorange', lw=2, label='ROC curve (area = {:.2f})'.format(roc_auc))\n",
    "plt.plot([0, 1], [0, 1], color='navy', lw=2, linestyle='--')\n",
    "plt.xlim([0.0, 1.0])\n",
    "plt.ylim([0.0, 1.05])\n",
    "plt.xlabel('False Positive Rate')\n",
    "plt.ylabel('True Positive Rate')\n",
    "plt.title('Receiver Operating Characteristic (ROC)')\n",
    "plt.legend(loc='lower right')\n",
    "plt.show()"
   ]
  },
  {
   "cell_type": "markdown",
   "metadata": {},
   "source": [
    "### 3) Complement Naive Bayes"
   ]
  },
  {
   "cell_type": "code",
   "execution_count": null,
   "metadata": {},
   "outputs": [],
   "source": [
    "from sklearn.naive_bayes import ComplementNB\n",
    "clf3 = ComplementNB(force_alpha=True)\n",
    "clf3.fit(train_images, train_labels)\n",
    "predictions3 = clf3.predict(test_images)"
   ]
  },
  {
   "cell_type": "markdown",
   "metadata": {},
   "source": [
    "##### Model Evaluation\n"
   ]
  },
  {
   "cell_type": "code",
   "execution_count": null,
   "metadata": {},
   "outputs": [],
   "source": [
    "# accuracy\n",
    "accuracy = accuracy_score(test_labels, predictions3)\n",
    "print('Accuracy = ', accuracy)"
   ]
  },
  {
   "cell_type": "code",
   "execution_count": null,
   "metadata": {},
   "outputs": [],
   "source": [
    "from sklearn.metrics import confusion_matrix\n",
    "\n",
    "# confusion matrix\n",
    "confusion_matrix = confusion_matrix(test_labels, predictions3)\n",
    "confusion_matrix"
   ]
  },
  {
   "cell_type": "code",
   "execution_count": null,
   "metadata": {},
   "outputs": [],
   "source": [
    "tp = confusion_matrix[0,0]\n",
    "print(\"TP = \", tp)\n",
    "fp = confusion_matrix[1,0]\n",
    "print(\"FP = \", fp)\n",
    "tn = confusion_matrix[1,1]\n",
    "print(\"TN = \", tn)\n",
    "fn = confusion_matrix[0,1]\n",
    "print(\"FN = \", fn)"
   ]
  },
  {
   "cell_type": "code",
   "execution_count": null,
   "metadata": {},
   "outputs": [],
   "source": [
    "sensitivity = tp / (tp + fn)\n",
    "print('Sensitivity = ', sensitivity)\n",
    "\n",
    "specificity = tn/ (fp + tn)\n",
    "print('Specificity = ', specificity)"
   ]
  },
  {
   "cell_type": "code",
   "execution_count": null,
   "metadata": {},
   "outputs": [],
   "source": [
    "precision = precision_score(test_labels, predictions3)\n",
    "print('Precision = ', precision)\n",
    "\n",
    "recall = recall_score(test_labels, predictions3)\n",
    "print('Recall = ', recall)"
   ]
  },
  {
   "cell_type": "code",
   "execution_count": null,
   "metadata": {},
   "outputs": [],
   "source": [
    "# Calculate predicted probabilities for the positive class\n",
    "probabilities = clf3.predict_proba(test_images)[:, 1]\n",
    "\n",
    "# Calculate the ROC curve\n",
    "fpr, tpr, thresholds = roc_curve(test_labels, probabilities)\n",
    "\n",
    "# Calculate the AUC (Area Under the Curve)\n",
    "roc_auc = auc(fpr, tpr)\n",
    "print(\"Area Under Curve = \", roc_auc)\n",
    "\n",
    "# Plot the ROC curve\n",
    "plt.figure(figsize=(8, 6))\n",
    "plt.plot(fpr, tpr, color='darkorange', lw=2, label='ROC curve (area = {:.2f})'.format(roc_auc))\n",
    "plt.plot([0, 1], [0, 1], color='navy', lw=2, linestyle='--')\n",
    "plt.xlim([0.0, 1.0])\n",
    "plt.ylim([0.0, 1.05])\n",
    "plt.xlabel('False Positive Rate')\n",
    "plt.ylabel('True Positive Rate')\n",
    "plt.title('Receiver Operating Characteristic (ROC)')\n",
    "plt.legend(loc='lower right')\n",
    "plt.show()"
   ]
  },
  {
   "cell_type": "markdown",
   "metadata": {},
   "source": [
    "### 4) Bernoulli Naive Bayes"
   ]
  },
  {
   "cell_type": "code",
   "execution_count": null,
   "metadata": {},
   "outputs": [],
   "source": [
    "from sklearn.naive_bayes import BernoulliNB\n",
    "clf4 = BernoulliNB(force_alpha=True)\n",
    "clf4.fit(train_images, train_labels)\n",
    "predictions4 = clf4.predict(test_images)"
   ]
  },
  {
   "cell_type": "markdown",
   "metadata": {},
   "source": [
    "##### Model Evaluation\n"
   ]
  },
  {
   "cell_type": "code",
   "execution_count": null,
   "metadata": {},
   "outputs": [],
   "source": [
    "# accuracy\n",
    "accuracy = accuracy_score(test_labels, predictions4)\n",
    "print('Accuracy = ', accuracy)"
   ]
  },
  {
   "cell_type": "code",
   "execution_count": null,
   "metadata": {},
   "outputs": [],
   "source": [
    "from sklearn.metrics import confusion_matrix\n",
    "\n",
    "# confusion matrix\n",
    "confusion_matrix = confusion_matrix(test_labels, predictions4)\n",
    "confusion_matrix"
   ]
  },
  {
   "cell_type": "code",
   "execution_count": null,
   "metadata": {},
   "outputs": [],
   "source": [
    "tp = confusion_matrix[0,0]\n",
    "print(\"TP = \", tp)\n",
    "fp = confusion_matrix[1,0]\n",
    "print(\"FP = \", fp)\n",
    "tn = confusion_matrix[1,1]\n",
    "print(\"TN = \", tn)\n",
    "fn = confusion_matrix[0,1]\n",
    "print(\"FN = \", fn)"
   ]
  },
  {
   "cell_type": "code",
   "execution_count": null,
   "metadata": {},
   "outputs": [],
   "source": [
    "sensitivity = tp / (tp + fn)\n",
    "print('Sensitivity = ', sensitivity)\n",
    "\n",
    "specificity = tn/ (fp + tn)\n",
    "print('Specificity = ', specificity)"
   ]
  },
  {
   "cell_type": "code",
   "execution_count": null,
   "metadata": {},
   "outputs": [],
   "source": [
    "precision = precision_score(test_labels, predictions4, zero_division=1)\n",
    "print('Precision = ', precision)\n",
    "\n",
    "recall = recall_score(test_labels, predictions4, zero_division=1)\n",
    "print('Recall = ', recall)"
   ]
  },
  {
   "cell_type": "code",
   "execution_count": null,
   "metadata": {},
   "outputs": [],
   "source": [
    "# Calculate predicted probabilities for the positive class\n",
    "probabilities = clf4.predict_proba(test_images)[:, 1]\n",
    "\n",
    "# Calculate the ROC curve\n",
    "fpr, tpr, thresholds = roc_curve(test_labels, probabilities)\n",
    "\n",
    "# Calculate the AUC (Area Under the Curve)\n",
    "roc_auc = auc(fpr, tpr)\n",
    "print(\"Area Under Curve = \", roc_auc)\n",
    "\n",
    "# Plot the ROC curve\n",
    "plt.figure(figsize=(8, 6))\n",
    "plt.plot(fpr, tpr, color='darkorange', lw=2, label='ROC curve (area = {:.2f})'.format(roc_auc))\n",
    "plt.plot([0, 1], [0, 1], color='navy', lw=2, linestyle='--')\n",
    "plt.xlim([0.0, 1.0])\n",
    "plt.ylim([0.0, 1.05])\n",
    "plt.xlabel('False Positive Rate')\n",
    "plt.ylabel('True Positive Rate')\n",
    "plt.title('Receiver Operating Characteristic (ROC)')\n",
    "plt.legend(loc='lower right')\n",
    "plt.show()"
   ]
  },
  {
   "cell_type": "markdown",
   "metadata": {},
   "source": [
    "### 5) Categorical Naive Bayes"
   ]
  },
  {
   "cell_type": "code",
   "execution_count": null,
   "metadata": {},
   "outputs": [],
   "source": [
    "from sklearn.naive_bayes import CategoricalNB\n",
    "clf5 = CategoricalNB(force_alpha=True)\n",
    "clf5.fit(train_images, train_labels)\n",
    "predictions5 = clf5.predict(test_images)"
   ]
  },
  {
   "cell_type": "markdown",
   "metadata": {},
   "source": [
    "##### Model Evaluation\n"
   ]
  },
  {
   "cell_type": "code",
   "execution_count": null,
   "metadata": {},
   "outputs": [],
   "source": [
    "# accuracy\n",
    "accuracy = accuracy_score(test_labels, predictions5)\n",
    "print('Accuracy = ', accuracy)"
   ]
  },
  {
   "cell_type": "code",
   "execution_count": null,
   "metadata": {},
   "outputs": [],
   "source": [
    "from sklearn.metrics import confusion_matrix\n",
    "\n",
    "# confusion matrix\n",
    "confusion_matrix = confusion_matrix(test_labels, predictions5)\n",
    "confusion_matrix"
   ]
  },
  {
   "cell_type": "code",
   "execution_count": null,
   "metadata": {},
   "outputs": [],
   "source": [
    "tp = confusion_matrix[0,0]\n",
    "print(\"TP = \", tp)\n",
    "fp = confusion_matrix[1,0]\n",
    "print(\"FP = \", fp)\n",
    "tn = confusion_matrix[1,1]\n",
    "print(\"TN = \", tn)\n",
    "fn = confusion_matrix[0,1]\n",
    "print(\"FN = \", fn)"
   ]
  },
  {
   "cell_type": "code",
   "execution_count": null,
   "metadata": {},
   "outputs": [],
   "source": [
    "sensitivity = tp / (tp + fn)\n",
    "print('Sensitivity = ', sensitivity)\n",
    "\n",
    "specificity = tn/ (fp + tn)\n",
    "print('Specificity = ', specificity)"
   ]
  },
  {
   "cell_type": "code",
   "execution_count": null,
   "metadata": {},
   "outputs": [],
   "source": [
    "precision = precision_score(test_labels, predictions5)\n",
    "print('Precision = ', precision)\n",
    "\n",
    "recall = recall_score(test_labels, predictions5)\n",
    "print('Recall = ', recall)"
   ]
  },
  {
   "cell_type": "code",
   "execution_count": null,
   "metadata": {},
   "outputs": [],
   "source": [
    "# Calculate predicted probabilities for the positive class\n",
    "probabilities = clf5.predict_proba(test_images)[:, 1]\n",
    "\n",
    "# Calculate the ROC curve\n",
    "fpr, tpr, thresholds = roc_curve(test_labels, probabilities)\n",
    "\n",
    "# Calculate the AUC (Area Under the Curve)\n",
    "roc_auc = auc(fpr, tpr)\n",
    "print(\"Area Under Curve = \", roc_auc)\n",
    "\n",
    "# Plot the ROC curve\n",
    "plt.figure(figsize=(8, 6))\n",
    "plt.plot(fpr, tpr, color='darkorange', lw=2, label='ROC curve (area = {:.2f})'.format(roc_auc))\n",
    "plt.plot([0, 1], [0, 1], color='navy', lw=2, linestyle='--')\n",
    "plt.xlim([0.0, 1.0])\n",
    "plt.ylim([0.0, 1.05])\n",
    "plt.xlabel('False Positive Rate')\n",
    "plt.ylabel('True Positive Rate')\n",
    "plt.title('Receiver Operating Characteristic (ROC)')\n",
    "plt.legend(loc='lower right')\n",
    "plt.show()"
   ]
  },
  {
   "cell_type": "code",
   "execution_count": null,
   "metadata": {},
   "outputs": [],
   "source": [
    "X=train_images"
   ]
  },
  {
   "cell_type": "markdown",
   "metadata": {},
   "source": [
    "# Clustering\n"
   ]
  },
  {
   "cell_type": "code",
   "execution_count": 7,
   "metadata": {},
   "outputs": [],
   "source": [
    "X=test_images\n",
    "y=test_labels"
   ]
  },
  {
   "cell_type": "code",
   "execution_count": 8,
   "metadata": {},
   "outputs": [],
   "source": [
    "import pandas as pd\n",
    "import matplotlib.pyplot as plt\n",
    "from sklearn.cluster import KMeans, MiniBatchKMeans, AgglomerativeClustering\n",
    "from sklearn.mixture import GaussianMixture\n",
    "from sklearn.metrics import silhouette_score, confusion_matrix, accuracy_score, precision_score, recall_score, f1_score, roc_auc_score\n",
    "\n",
    "def calculate_metrics(y, cluster_labels):\n",
    "    cm = confusion_matrix(y, cluster_labels)\n",
    "    TP = cm[1, 1]\n",
    "    FP = cm[0, 1]\n",
    "    TN = cm[0, 0]\n",
    "    FN = cm[1, 0]\n",
    "    Sensitivity = TP / (TP + FN)\n",
    "    Specificity = TN / (TN + FP)\n",
    "    fpr= TP / (TP + FN)\n",
    "    tpr= Sensitivity\n",
    "    silhouette_scores = silhouette_score(X, cluster_labels)\n",
    "    F1_score = f1_score(y, cluster_labels)\n",
    "    roc_auc = roc_auc_score(y, cluster_labels)\n",
    "    Precision = precision_score(y, cluster_labels)\n",
    "    Recall = recall_score(y, cluster_labels)\n",
    "    accuracy = accuracy_score(y, cluster_labels)\n",
    "\n",
    "    return fpr, tpr, TP, FP, TN, FN, Sensitivity, Specificity, Precision, Recall, roc_auc, accuracy, F1_score, silhouette_scores\n",
    "\n",
    "k_clusters=2\n",
    "algorithms = [\n",
    "    ('GM', GaussianMixture(n_components=k_clusters)),\n",
    "    ('K-Means', KMeans(n_clusters=k_clusters, n_init=\"auto\")),\n",
    "    ('MiniBatchKMeans', MiniBatchKMeans(n_clusters=k_clusters, batch_size=1536 , init='k-means++', n_init=50)), \n",
    "    ('AgglomerativeClustering', AgglomerativeClustering(n_clusters=k_clusters))\n",
    "]\n",
    "\n",
    "def evaluate_unsupervised(algorithms,X):\n",
    "    results = []\n",
    "    for name, algorithm in algorithms:\n",
    "        cluster_labels = algorithm.fit_predict(X)\n",
    "        fpr, tpr, TP, FP, TN, FN, Sensitivity, Specificity, Precision, Recall, roc_auc, accuracy, F1_score, silhouette_score_ = calculate_metrics(y, cluster_labels)\n",
    "        print(name,' Done')\n",
    "        results.append({\n",
    "            'Algorithm': name,\n",
    "            'Silhouette Score': silhouette_score_,\n",
    "            'TPR': tpr,\n",
    "            'FPR': fpr,\n",
    "            'TP': TP,\n",
    "            'FP': FP,\n",
    "            'TN': TN,\n",
    "            'FN': FN,\n",
    "            'Sensitivity': Sensitivity,\n",
    "            'Specificity': Specificity,\n",
    "            'Precision': Precision,\n",
    "            'Recall': Recall,\n",
    "            'ROC_AUC': roc_auc,\n",
    "            'Accuracy': accuracy,\n",
    "            'F1-Score': F1_score,\n",
    "            f'Data {X.shape[1]} Features' : X,\n",
    "            'algorithm':algorithm\n",
    "        })\n",
    "    return pd.DataFrame(results)\n"
   ]
  },
  {
   "cell_type": "code",
   "execution_count": 9,
   "metadata": {},
   "outputs": [],
   "source": [
    "from sklearn.decomposition import PCA\n",
    "\n",
    "pca = PCA(n_components=2)\n",
    "X_pca = pca.fit_transform(X)"
   ]
  },
  {
   "cell_type": "code",
   "execution_count": 10,
   "metadata": {},
   "outputs": [],
   "source": [
    "from sklearn.manifold import TSNE\n",
    "\n",
    "tsne = TSNE(n_components=2)\n",
    "X_tsne = tsne.fit_transform(X)"
   ]
  },
  {
   "cell_type": "code",
   "execution_count": 11,
   "metadata": {},
   "outputs": [
    {
     "name": "stdout",
     "output_type": "stream",
     "text": [
      "GM  Done\n",
      "K-Means  Done\n"
     ]
    },
    {
     "name": "stderr",
     "output_type": "stream",
     "text": [
      "c:\\Users\\Poornima\\anaconda3\\lib\\site-packages\\sklearn\\cluster\\_kmeans.py:1902: UserWarning: MiniBatchKMeans is known to have a memory leak on Windows with MKL, when there are less chunks than available threads. You can prevent it by setting batch_size >= 2048 or by setting the environment variable OMP_NUM_THREADS=6\n",
      "  warnings.warn(\n"
     ]
    },
    {
     "name": "stdout",
     "output_type": "stream",
     "text": [
      "MiniBatchKMeans  Done\n",
      "AgglomerativeClustering  Done\n"
     ]
    },
    {
     "data": {
      "text/html": [
       "<div>\n",
       "<style scoped>\n",
       "    .dataframe tbody tr th:only-of-type {\n",
       "        vertical-align: middle;\n",
       "    }\n",
       "\n",
       "    .dataframe tbody tr th {\n",
       "        vertical-align: top;\n",
       "    }\n",
       "\n",
       "    .dataframe thead th {\n",
       "        text-align: right;\n",
       "    }\n",
       "</style>\n",
       "<table border=\"1\" class=\"dataframe\">\n",
       "  <thead>\n",
       "    <tr style=\"text-align: right;\">\n",
       "      <th></th>\n",
       "      <th>Algorithm</th>\n",
       "      <th>Silhouette Score</th>\n",
       "      <th>TPR</th>\n",
       "      <th>FPR</th>\n",
       "      <th>TP</th>\n",
       "      <th>FP</th>\n",
       "      <th>TN</th>\n",
       "      <th>FN</th>\n",
       "      <th>Sensitivity</th>\n",
       "      <th>Specificity</th>\n",
       "      <th>Precision</th>\n",
       "      <th>Recall</th>\n",
       "      <th>ROC_AUC</th>\n",
       "      <th>Accuracy</th>\n",
       "      <th>F1-Score</th>\n",
       "      <th>Data 2304 Features</th>\n",
       "      <th>algorithm</th>\n",
       "    </tr>\n",
       "  </thead>\n",
       "  <tbody>\n",
       "    <tr>\n",
       "      <th>0</th>\n",
       "      <td>GM</td>\n",
       "      <td>0.393016</td>\n",
       "      <td>0.466</td>\n",
       "      <td>0.466</td>\n",
       "      <td>1398</td>\n",
       "      <td>2197</td>\n",
       "      <td>803</td>\n",
       "      <td>1602</td>\n",
       "      <td>0.466</td>\n",
       "      <td>0.267667</td>\n",
       "      <td>0.388873</td>\n",
       "      <td>0.466</td>\n",
       "      <td>0.366833</td>\n",
       "      <td>0.366833</td>\n",
       "      <td>0.423958</td>\n",
       "      <td>[[0.3764705882352941, 0.35294117647058826, 0.3...</td>\n",
       "      <td>GaussianMixture(n_components=2)</td>\n",
       "    </tr>\n",
       "    <tr>\n",
       "      <th>1</th>\n",
       "      <td>K-Means</td>\n",
       "      <td>0.392489</td>\n",
       "      <td>0.534</td>\n",
       "      <td>0.534</td>\n",
       "      <td>1602</td>\n",
       "      <td>823</td>\n",
       "      <td>2177</td>\n",
       "      <td>1398</td>\n",
       "      <td>0.534</td>\n",
       "      <td>0.725667</td>\n",
       "      <td>0.660619</td>\n",
       "      <td>0.534</td>\n",
       "      <td>0.629833</td>\n",
       "      <td>0.629833</td>\n",
       "      <td>0.590599</td>\n",
       "      <td>[[0.3764705882352941, 0.35294117647058826, 0.3...</td>\n",
       "      <td>KMeans(n_clusters=2, n_init='auto')</td>\n",
       "    </tr>\n",
       "    <tr>\n",
       "      <th>2</th>\n",
       "      <td>MiniBatchKMeans</td>\n",
       "      <td>0.393025</td>\n",
       "      <td>0.466</td>\n",
       "      <td>0.466</td>\n",
       "      <td>1398</td>\n",
       "      <td>2201</td>\n",
       "      <td>799</td>\n",
       "      <td>1602</td>\n",
       "      <td>0.466</td>\n",
       "      <td>0.266333</td>\n",
       "      <td>0.388441</td>\n",
       "      <td>0.466</td>\n",
       "      <td>0.366167</td>\n",
       "      <td>0.366167</td>\n",
       "      <td>0.423701</td>\n",
       "      <td>[[0.3764705882352941, 0.35294117647058826, 0.3...</td>\n",
       "      <td>MiniBatchKMeans(batch_size=1536, n_clusters=2,...</td>\n",
       "    </tr>\n",
       "    <tr>\n",
       "      <th>3</th>\n",
       "      <td>AgglomerativeClustering</td>\n",
       "      <td>0.383456</td>\n",
       "      <td>0.534</td>\n",
       "      <td>0.534</td>\n",
       "      <td>1602</td>\n",
       "      <td>515</td>\n",
       "      <td>2485</td>\n",
       "      <td>1398</td>\n",
       "      <td>0.534</td>\n",
       "      <td>0.828333</td>\n",
       "      <td>0.756731</td>\n",
       "      <td>0.534</td>\n",
       "      <td>0.681167</td>\n",
       "      <td>0.681167</td>\n",
       "      <td>0.626148</td>\n",
       "      <td>[[0.3764705882352941, 0.35294117647058826, 0.3...</td>\n",
       "      <td>AgglomerativeClustering()</td>\n",
       "    </tr>\n",
       "  </tbody>\n",
       "</table>\n",
       "</div>"
      ],
      "text/plain": [
       "                 Algorithm  Silhouette Score    TPR    FPR    TP    FP    TN  \\\n",
       "0                       GM          0.393016  0.466  0.466  1398  2197   803   \n",
       "1                  K-Means          0.392489  0.534  0.534  1602   823  2177   \n",
       "2          MiniBatchKMeans          0.393025  0.466  0.466  1398  2201   799   \n",
       "3  AgglomerativeClustering          0.383456  0.534  0.534  1602   515  2485   \n",
       "\n",
       "     FN  Sensitivity  Specificity  Precision  Recall   ROC_AUC  Accuracy  \\\n",
       "0  1602        0.466     0.267667   0.388873   0.466  0.366833  0.366833   \n",
       "1  1398        0.534     0.725667   0.660619   0.534  0.629833  0.629833   \n",
       "2  1602        0.466     0.266333   0.388441   0.466  0.366167  0.366167   \n",
       "3  1398        0.534     0.828333   0.756731   0.534  0.681167  0.681167   \n",
       "\n",
       "   F1-Score                                 Data 2304 Features  \\\n",
       "0  0.423958  [[0.3764705882352941, 0.35294117647058826, 0.3...   \n",
       "1  0.590599  [[0.3764705882352941, 0.35294117647058826, 0.3...   \n",
       "2  0.423701  [[0.3764705882352941, 0.35294117647058826, 0.3...   \n",
       "3  0.626148  [[0.3764705882352941, 0.35294117647058826, 0.3...   \n",
       "\n",
       "                                           algorithm  \n",
       "0                    GaussianMixture(n_components=2)  \n",
       "1                KMeans(n_clusters=2, n_init='auto')  \n",
       "2  MiniBatchKMeans(batch_size=1536, n_clusters=2,...  \n",
       "3                          AgglomerativeClustering()  "
      ]
     },
     "execution_count": 11,
     "metadata": {},
     "output_type": "execute_result"
    }
   ],
   "source": [
    "results_df_full_feature = evaluate_unsupervised(algorithms,X)\n",
    "results_df_full_feature"
   ]
  },
  {
   "cell_type": "code",
   "execution_count": 12,
   "metadata": {},
   "outputs": [
    {
     "name": "stdout",
     "output_type": "stream",
     "text": [
      "GM  Done\n",
      "K-Means  Done\n"
     ]
    },
    {
     "name": "stderr",
     "output_type": "stream",
     "text": [
      "c:\\Users\\Poornima\\anaconda3\\lib\\site-packages\\sklearn\\cluster\\_kmeans.py:1902: UserWarning: MiniBatchKMeans is known to have a memory leak on Windows with MKL, when there are less chunks than available threads. You can prevent it by setting batch_size >= 2048 or by setting the environment variable OMP_NUM_THREADS=6\n",
      "  warnings.warn(\n"
     ]
    },
    {
     "name": "stdout",
     "output_type": "stream",
     "text": [
      "MiniBatchKMeans  Done\n",
      "AgglomerativeClustering  Done\n"
     ]
    },
    {
     "data": {
      "text/html": [
       "<div>\n",
       "<style scoped>\n",
       "    .dataframe tbody tr th:only-of-type {\n",
       "        vertical-align: middle;\n",
       "    }\n",
       "\n",
       "    .dataframe tbody tr th {\n",
       "        vertical-align: top;\n",
       "    }\n",
       "\n",
       "    .dataframe thead th {\n",
       "        text-align: right;\n",
       "    }\n",
       "</style>\n",
       "<table border=\"1\" class=\"dataframe\">\n",
       "  <thead>\n",
       "    <tr style=\"text-align: right;\">\n",
       "      <th></th>\n",
       "      <th>Algorithm</th>\n",
       "      <th>Silhouette Score</th>\n",
       "      <th>TPR</th>\n",
       "      <th>FPR</th>\n",
       "      <th>TP</th>\n",
       "      <th>FP</th>\n",
       "      <th>TN</th>\n",
       "      <th>FN</th>\n",
       "      <th>Sensitivity</th>\n",
       "      <th>Specificity</th>\n",
       "      <th>Precision</th>\n",
       "      <th>Recall</th>\n",
       "      <th>ROC_AUC</th>\n",
       "      <th>Accuracy</th>\n",
       "      <th>F1-Score</th>\n",
       "      <th>Data 2 Features</th>\n",
       "      <th>algorithm</th>\n",
       "    </tr>\n",
       "  </thead>\n",
       "  <tbody>\n",
       "    <tr>\n",
       "      <th>0</th>\n",
       "      <td>GM</td>\n",
       "      <td>0.336431</td>\n",
       "      <td>0.466</td>\n",
       "      <td>0.466</td>\n",
       "      <td>1398</td>\n",
       "      <td>2976</td>\n",
       "      <td>24</td>\n",
       "      <td>1602</td>\n",
       "      <td>0.466</td>\n",
       "      <td>0.008000</td>\n",
       "      <td>0.319616</td>\n",
       "      <td>0.466</td>\n",
       "      <td>0.237000</td>\n",
       "      <td>0.237000</td>\n",
       "      <td>0.379170</td>\n",
       "      <td>[[3.027830916248614, 0.7855100099747758], [3.3...</td>\n",
       "      <td>GaussianMixture(n_components=2)</td>\n",
       "    </tr>\n",
       "    <tr>\n",
       "      <th>1</th>\n",
       "      <td>K-Means</td>\n",
       "      <td>0.393031</td>\n",
       "      <td>0.534</td>\n",
       "      <td>0.534</td>\n",
       "      <td>1602</td>\n",
       "      <td>795</td>\n",
       "      <td>2205</td>\n",
       "      <td>1398</td>\n",
       "      <td>0.534</td>\n",
       "      <td>0.735000</td>\n",
       "      <td>0.668335</td>\n",
       "      <td>0.534</td>\n",
       "      <td>0.634500</td>\n",
       "      <td>0.634500</td>\n",
       "      <td>0.593663</td>\n",
       "      <td>[[3.027830916248614, 0.7855100099747758], [3.3...</td>\n",
       "      <td>KMeans(n_clusters=2, n_init='auto')</td>\n",
       "    </tr>\n",
       "    <tr>\n",
       "      <th>2</th>\n",
       "      <td>MiniBatchKMeans</td>\n",
       "      <td>0.393031</td>\n",
       "      <td>0.534</td>\n",
       "      <td>0.534</td>\n",
       "      <td>1602</td>\n",
       "      <td>795</td>\n",
       "      <td>2205</td>\n",
       "      <td>1398</td>\n",
       "      <td>0.534</td>\n",
       "      <td>0.735000</td>\n",
       "      <td>0.668335</td>\n",
       "      <td>0.534</td>\n",
       "      <td>0.634500</td>\n",
       "      <td>0.634500</td>\n",
       "      <td>0.593663</td>\n",
       "      <td>[[3.027830916248614, 0.7855100099747758], [3.3...</td>\n",
       "      <td>MiniBatchKMeans(batch_size=1536, n_clusters=2,...</td>\n",
       "    </tr>\n",
       "    <tr>\n",
       "      <th>3</th>\n",
       "      <td>AgglomerativeClustering</td>\n",
       "      <td>0.384317</td>\n",
       "      <td>0.534</td>\n",
       "      <td>0.534</td>\n",
       "      <td>1602</td>\n",
       "      <td>506</td>\n",
       "      <td>2494</td>\n",
       "      <td>1398</td>\n",
       "      <td>0.534</td>\n",
       "      <td>0.831333</td>\n",
       "      <td>0.759962</td>\n",
       "      <td>0.534</td>\n",
       "      <td>0.682667</td>\n",
       "      <td>0.682667</td>\n",
       "      <td>0.627251</td>\n",
       "      <td>[[3.027830916248614, 0.7855100099747758], [3.3...</td>\n",
       "      <td>AgglomerativeClustering()</td>\n",
       "    </tr>\n",
       "  </tbody>\n",
       "</table>\n",
       "</div>"
      ],
      "text/plain": [
       "                 Algorithm  Silhouette Score    TPR    FPR    TP    FP    TN  \\\n",
       "0                       GM          0.336431  0.466  0.466  1398  2976    24   \n",
       "1                  K-Means          0.393031  0.534  0.534  1602   795  2205   \n",
       "2          MiniBatchKMeans          0.393031  0.534  0.534  1602   795  2205   \n",
       "3  AgglomerativeClustering          0.384317  0.534  0.534  1602   506  2494   \n",
       "\n",
       "     FN  Sensitivity  Specificity  Precision  Recall   ROC_AUC  Accuracy  \\\n",
       "0  1602        0.466     0.008000   0.319616   0.466  0.237000  0.237000   \n",
       "1  1398        0.534     0.735000   0.668335   0.534  0.634500  0.634500   \n",
       "2  1398        0.534     0.735000   0.668335   0.534  0.634500  0.634500   \n",
       "3  1398        0.534     0.831333   0.759962   0.534  0.682667  0.682667   \n",
       "\n",
       "   F1-Score                                    Data 2 Features  \\\n",
       "0  0.379170  [[3.027830916248614, 0.7855100099747758], [3.3...   \n",
       "1  0.593663  [[3.027830916248614, 0.7855100099747758], [3.3...   \n",
       "2  0.593663  [[3.027830916248614, 0.7855100099747758], [3.3...   \n",
       "3  0.627251  [[3.027830916248614, 0.7855100099747758], [3.3...   \n",
       "\n",
       "                                           algorithm  \n",
       "0                    GaussianMixture(n_components=2)  \n",
       "1                KMeans(n_clusters=2, n_init='auto')  \n",
       "2  MiniBatchKMeans(batch_size=1536, n_clusters=2,...  \n",
       "3                          AgglomerativeClustering()  "
      ]
     },
     "execution_count": 12,
     "metadata": {},
     "output_type": "execute_result"
    }
   ],
   "source": [
    "results_df_full_PCA= evaluate_unsupervised(algorithms,X_pca)\n",
    "results_df_full_PCA"
   ]
  },
  {
   "cell_type": "code",
   "execution_count": 13,
   "metadata": {},
   "outputs": [
    {
     "name": "stdout",
     "output_type": "stream",
     "text": [
      "GM  Done\n",
      "K-Means  Done\n"
     ]
    },
    {
     "name": "stderr",
     "output_type": "stream",
     "text": [
      "c:\\Users\\Poornima\\anaconda3\\lib\\site-packages\\sklearn\\cluster\\_kmeans.py:1902: UserWarning: MiniBatchKMeans is known to have a memory leak on Windows with MKL, when there are less chunks than available threads. You can prevent it by setting batch_size >= 2048 or by setting the environment variable OMP_NUM_THREADS=6\n",
      "  warnings.warn(\n"
     ]
    },
    {
     "name": "stdout",
     "output_type": "stream",
     "text": [
      "MiniBatchKMeans  Done\n",
      "AgglomerativeClustering  Done\n"
     ]
    },
    {
     "data": {
      "text/html": [
       "<div>\n",
       "<style scoped>\n",
       "    .dataframe tbody tr th:only-of-type {\n",
       "        vertical-align: middle;\n",
       "    }\n",
       "\n",
       "    .dataframe tbody tr th {\n",
       "        vertical-align: top;\n",
       "    }\n",
       "\n",
       "    .dataframe thead th {\n",
       "        text-align: right;\n",
       "    }\n",
       "</style>\n",
       "<table border=\"1\" class=\"dataframe\">\n",
       "  <thead>\n",
       "    <tr style=\"text-align: right;\">\n",
       "      <th></th>\n",
       "      <th>Algorithm</th>\n",
       "      <th>Silhouette Score</th>\n",
       "      <th>TPR</th>\n",
       "      <th>FPR</th>\n",
       "      <th>TP</th>\n",
       "      <th>FP</th>\n",
       "      <th>TN</th>\n",
       "      <th>FN</th>\n",
       "      <th>Sensitivity</th>\n",
       "      <th>Specificity</th>\n",
       "      <th>Precision</th>\n",
       "      <th>Recall</th>\n",
       "      <th>ROC_AUC</th>\n",
       "      <th>Accuracy</th>\n",
       "      <th>F1-Score</th>\n",
       "      <th>Data 2 Features</th>\n",
       "      <th>algorithm</th>\n",
       "    </tr>\n",
       "  </thead>\n",
       "  <tbody>\n",
       "    <tr>\n",
       "      <th>0</th>\n",
       "      <td>GM</td>\n",
       "      <td>0.179115</td>\n",
       "      <td>0.738667</td>\n",
       "      <td>0.738667</td>\n",
       "      <td>2216</td>\n",
       "      <td>1087</td>\n",
       "      <td>1913</td>\n",
       "      <td>784</td>\n",
       "      <td>0.738667</td>\n",
       "      <td>0.637667</td>\n",
       "      <td>0.670905</td>\n",
       "      <td>0.738667</td>\n",
       "      <td>0.688167</td>\n",
       "      <td>0.688167</td>\n",
       "      <td>0.703157</td>\n",
       "      <td>[[15.496551, 81.74265], [-13.161461, 113.76282...</td>\n",
       "      <td>GaussianMixture(n_components=2)</td>\n",
       "    </tr>\n",
       "    <tr>\n",
       "      <th>1</th>\n",
       "      <td>K-Means</td>\n",
       "      <td>0.146818</td>\n",
       "      <td>0.684000</td>\n",
       "      <td>0.684000</td>\n",
       "      <td>2052</td>\n",
       "      <td>950</td>\n",
       "      <td>2050</td>\n",
       "      <td>948</td>\n",
       "      <td>0.684000</td>\n",
       "      <td>0.683333</td>\n",
       "      <td>0.683544</td>\n",
       "      <td>0.684000</td>\n",
       "      <td>0.683667</td>\n",
       "      <td>0.683667</td>\n",
       "      <td>0.683772</td>\n",
       "      <td>[[15.496551, 81.74265], [-13.161461, 113.76282...</td>\n",
       "      <td>KMeans(n_clusters=2, n_init='auto')</td>\n",
       "    </tr>\n",
       "    <tr>\n",
       "      <th>2</th>\n",
       "      <td>MiniBatchKMeans</td>\n",
       "      <td>0.180428</td>\n",
       "      <td>0.685333</td>\n",
       "      <td>0.685333</td>\n",
       "      <td>2056</td>\n",
       "      <td>1063</td>\n",
       "      <td>1937</td>\n",
       "      <td>944</td>\n",
       "      <td>0.685333</td>\n",
       "      <td>0.645667</td>\n",
       "      <td>0.659186</td>\n",
       "      <td>0.685333</td>\n",
       "      <td>0.665500</td>\n",
       "      <td>0.665500</td>\n",
       "      <td>0.672005</td>\n",
       "      <td>[[15.496551, 81.74265], [-13.161461, 113.76282...</td>\n",
       "      <td>MiniBatchKMeans(batch_size=1536, n_clusters=2,...</td>\n",
       "    </tr>\n",
       "    <tr>\n",
       "      <th>3</th>\n",
       "      <td>AgglomerativeClustering</td>\n",
       "      <td>0.035572</td>\n",
       "      <td>0.499000</td>\n",
       "      <td>0.499000</td>\n",
       "      <td>1497</td>\n",
       "      <td>1629</td>\n",
       "      <td>1371</td>\n",
       "      <td>1503</td>\n",
       "      <td>0.499000</td>\n",
       "      <td>0.457000</td>\n",
       "      <td>0.478887</td>\n",
       "      <td>0.499000</td>\n",
       "      <td>0.478000</td>\n",
       "      <td>0.478000</td>\n",
       "      <td>0.488737</td>\n",
       "      <td>[[15.496551, 81.74265], [-13.161461, 113.76282...</td>\n",
       "      <td>AgglomerativeClustering()</td>\n",
       "    </tr>\n",
       "  </tbody>\n",
       "</table>\n",
       "</div>"
      ],
      "text/plain": [
       "                 Algorithm  Silhouette Score       TPR       FPR    TP    FP  \\\n",
       "0                       GM          0.179115  0.738667  0.738667  2216  1087   \n",
       "1                  K-Means          0.146818  0.684000  0.684000  2052   950   \n",
       "2          MiniBatchKMeans          0.180428  0.685333  0.685333  2056  1063   \n",
       "3  AgglomerativeClustering          0.035572  0.499000  0.499000  1497  1629   \n",
       "\n",
       "     TN    FN  Sensitivity  Specificity  Precision    Recall   ROC_AUC  \\\n",
       "0  1913   784     0.738667     0.637667   0.670905  0.738667  0.688167   \n",
       "1  2050   948     0.684000     0.683333   0.683544  0.684000  0.683667   \n",
       "2  1937   944     0.685333     0.645667   0.659186  0.685333  0.665500   \n",
       "3  1371  1503     0.499000     0.457000   0.478887  0.499000  0.478000   \n",
       "\n",
       "   Accuracy  F1-Score                                    Data 2 Features  \\\n",
       "0  0.688167  0.703157  [[15.496551, 81.74265], [-13.161461, 113.76282...   \n",
       "1  0.683667  0.683772  [[15.496551, 81.74265], [-13.161461, 113.76282...   \n",
       "2  0.665500  0.672005  [[15.496551, 81.74265], [-13.161461, 113.76282...   \n",
       "3  0.478000  0.488737  [[15.496551, 81.74265], [-13.161461, 113.76282...   \n",
       "\n",
       "                                           algorithm  \n",
       "0                    GaussianMixture(n_components=2)  \n",
       "1                KMeans(n_clusters=2, n_init='auto')  \n",
       "2  MiniBatchKMeans(batch_size=1536, n_clusters=2,...  \n",
       "3                          AgglomerativeClustering()  "
      ]
     },
     "execution_count": 13,
     "metadata": {},
     "output_type": "execute_result"
    }
   ],
   "source": [
    "results_df_full_tsne = evaluate_unsupervised(algorithms,X_tsne)\n",
    "results_df_full_tsne"
   ]
  },
  {
   "cell_type": "markdown",
   "metadata": {},
   "source": [
    "### Hard Clustering\n"
   ]
  },
  {
   "cell_type": "code",
   "execution_count": 14,
   "metadata": {},
   "outputs": [],
   "source": [
    "import pandas as pd\n",
    "X_dataframe = pd.DataFrame(X)"
   ]
  },
  {
   "cell_type": "code",
   "execution_count": 15,
   "metadata": {},
   "outputs": [
    {
     "data": {
      "text/plain": [
       "(6000, 2304)"
      ]
     },
     "execution_count": 15,
     "metadata": {},
     "output_type": "execute_result"
    }
   ],
   "source": [
    "X_dataframe.shape"
   ]
  },
  {
   "cell_type": "code",
   "execution_count": 16,
   "metadata": {},
   "outputs": [],
   "source": [
    "def plot_clusters(X, y=None):\n",
    "    plt.scatter(X[:, 0], X[:, 1],c=y, s=1,) #s is the size of dots.\n",
    "    plt.xlabel(\"$x_1$\", fontsize=14)\n",
    "    plt.ylabel(\"$x_2$\", fontsize=14, rotation=0)"
   ]
  },
  {
   "cell_type": "code",
   "execution_count": 17,
   "metadata": {},
   "outputs": [],
   "source": [
    "def plot_data(X):\n",
    "    plt.plot(X[:, 0], X[:, 1], 'k.', markersize=2)"
   ]
  },
  {
   "cell_type": "code",
   "execution_count": 18,
   "metadata": {},
   "outputs": [],
   "source": [
    "def plot_centroids(centroids, weights=None, circle_color='w', cross_color='k'):\n",
    "    if weights is not None:\n",
    "        centroids = centroids[weights > weights.max() / 10]\n",
    "    plt.scatter(centroids[:, 0], centroids[:, 1],\n",
    "                marker='o', s=35, linewidths=8,\n",
    "                color=circle_color, zorder=10, alpha=0.9)\n",
    "    plt.scatter(centroids[:, 0], centroids[:, 1],\n",
    "                marker='x', s=2, linewidths=12,\n",
    "                color=cross_color, zorder=11, alpha=1)"
   ]
  },
  {
   "cell_type": "code",
   "execution_count": 19,
   "metadata": {},
   "outputs": [],
   "source": [
    "\n",
    "def plot_decision_boundaries(clusterer, X, resolution=1000, show_centroids=True,\n",
    "                             show_xlabels=True, show_ylabels=True):\n",
    "    mins = X.min(axis=0) - 0.1\n",
    "    maxs = X.max(axis=0) + 0.1\n",
    "    xx, yy = np.meshgrid(np.linspace(mins[0], maxs[0], resolution),\n",
    "                         np.linspace(mins[1], maxs[1], resolution))\n",
    "    Z = clusterer.predict(np.c_[xx.ravel(), yy.ravel()])\n",
    "    Z = Z.reshape(xx.shape)\n",
    "\n",
    "    plt.contourf(Z, extent=(mins[0], maxs[0], mins[1], maxs[1]),\n",
    "                cmap=\"Pastel2\")\n",
    "    plt.contour(Z, extent=(mins[0], maxs[0], mins[1], maxs[1]),\n",
    "                linewidths=1, colors='k')\n",
    "    plot_data(X)\n",
    "    if show_centroids:\n",
    "        plot_centroids(clusterer.cluster_centers_)\n",
    "\n",
    "    if show_xlabels:\n",
    "        plt.xlabel(\"$x_1$\", fontsize=14)\n",
    "    else:\n",
    "        plt.tick_params(labelbottom=False)\n",
    "    if show_ylabels:\n",
    "        plt.ylabel(\"$x_2$\", fontsize=14, rotation=0)\n",
    "    else:\n",
    "        plt.tick_params(labelleft=False)"
   ]
  },
  {
   "cell_type": "code",
   "execution_count": 20,
   "metadata": {},
   "outputs": [
    {
     "name": "stderr",
     "output_type": "stream",
     "text": [
      "c:\\Users\\Poornima\\anaconda3\\lib\\site-packages\\sklearn\\cluster\\_kmeans.py:870: FutureWarning: The default value of `n_init` will change from 10 to 'auto' in 1.4. Set the value of `n_init` explicitly to suppress the warning\n",
      "  warnings.warn(\n"
     ]
    }
   ],
   "source": [
    "from sklearn.cluster import KMeans\n",
    "k = 2\n",
    "kmeans = KMeans(n_clusters=k, random_state=42)\n",
    "y_pred = kmeans.fit_predict(X)"
   ]
  },
  {
   "cell_type": "code",
   "execution_count": 21,
   "metadata": {},
   "outputs": [
    {
     "data": {
      "text/plain": [
       "array([0, 0, 0, ..., 0, 0, 0])"
      ]
     },
     "execution_count": 21,
     "metadata": {},
     "output_type": "execute_result"
    }
   ],
   "source": [
    "y_pred"
   ]
  },
  {
   "cell_type": "code",
   "execution_count": 22,
   "metadata": {},
   "outputs": [
    {
     "data": {
      "text/plain": [
       "True"
      ]
     },
     "execution_count": 22,
     "metadata": {},
     "output_type": "execute_result"
    }
   ],
   "source": [
    "y_pred is kmeans.labels_"
   ]
  },
  {
   "cell_type": "code",
   "execution_count": 23,
   "metadata": {},
   "outputs": [
    {
     "data": {
      "text/plain": [
       "array([[0.44181843, 0.43779978, 0.4385001 , ..., 0.41065314, 0.4121585 ,\n",
       "        0.41281518],\n",
       "       [0.62845053, 0.63679915, 0.6464979 , ..., 0.62168032, 0.6167217 ,\n",
       "        0.61017977]])"
      ]
     },
     "execution_count": 23,
     "metadata": {},
     "output_type": "execute_result"
    }
   ],
   "source": [
    "kmeans.cluster_centers_"
   ]
  },
  {
   "cell_type": "code",
   "execution_count": 24,
   "metadata": {},
   "outputs": [
    {
     "data": {
      "text/plain": [
       "array([0, 0, 0, ..., 0, 0, 0])"
      ]
     },
     "execution_count": 24,
     "metadata": {},
     "output_type": "execute_result"
    }
   ],
   "source": [
    "kmeans.labels_"
   ]
  },
  {
   "cell_type": "code",
   "execution_count": 25,
   "metadata": {},
   "outputs": [
    {
     "data": {
      "image/png": "[encoded data removed]",
      "text/plain": [
       "<Figure size 500x400 with 1 Axes>"
      ]
     },
     "metadata": {},
     "output_type": "display_data"
    }
   ],
   "source": [
    "plt.figure(figsize=(5,4))\n",
    "plt.title('Original Clusters', fontsize = 14)\n",
    "plot_clusters(X)\n",
    "plt.show()"
   ]
  },
  {
   "cell_type": "markdown",
   "metadata": {},
   "source": [
    "### PCA "
   ]
  },
  {
   "cell_type": "code",
   "execution_count": 26,
   "metadata": {},
   "outputs": [
    {
     "data": {
      "image/png": "[encoded data removed]",
      "text/plain": [
       "<Figure size 500x400 with 1 Axes>"
      ]
     },
     "metadata": {},
     "output_type": "display_data"
    }
   ],
   "source": [
    "#No k-means applied\n",
    "plt.figure(figsize=(5,4))\n",
    "plt.title('No Clustering', fontsize = 14)\n",
    "plot_clusters(X_pca, y)\n",
    "plt.show()"
   ]
  },
  {
   "cell_type": "code",
   "execution_count": 27,
   "metadata": {},
   "outputs": [
    {
     "data": {
      "image/png": "[encoded data removed]",
      "text/plain": [
       "<Figure size 500x500 with 1 Axes>"
      ]
     },
     "metadata": {},
     "output_type": "display_data"
    }
   ],
   "source": [
    "\n",
    "centroid_points = pca.transform(kmeans.cluster_centers_)\n",
    "point1 = centroid_points[:, 0]\n",
    "point2= centroid_points[:, 1]\n",
    "\n",
    "\n",
    "#plotting the clusters and their centroids\n",
    "\n",
    "plt.figure(figsize=(5, 5))\n",
    "plt.title(\"K-Means Clustering\")\n",
    "plot_clusters(X_pca, y_pred)\n",
    "plt.scatter(point1,point2 , c='red', s=80, marker='o')\n",
    "plt.show()"
   ]
  },
  {
   "cell_type": "code",
   "execution_count": 28,
   "metadata": {},
   "outputs": [
    {
     "name": "stderr",
     "output_type": "stream",
     "text": [
      "c:\\Users\\Poornima\\anaconda3\\lib\\site-packages\\sklearn\\cluster\\_kmeans.py:870: FutureWarning: The default value of `n_init` will change from 10 to 'auto' in 1.4. Set the value of `n_init` explicitly to suppress the warning\n",
      "  warnings.warn(\n"
     ]
    }
   ],
   "source": [
    "kmeans_reduction_pca = KMeans(n_clusters=2, random_state=0).fit(X_pca)"
   ]
  },
  {
   "cell_type": "code",
   "execution_count": 29,
   "metadata": {},
   "outputs": [
    {
     "data": {
      "image/png": "[encoded data removed]",
      "text/plain": [
       "<Figure size 800x600 with 1 Axes>"
      ]
     },
     "metadata": {},
     "output_type": "display_data"
    }
   ],
   "source": [
    "# plot decision boundary with reduced dataset\n",
    "plt.figure(figsize=(8, 6))\n",
    "plot_decision_boundaries(kmeans_reduction_pca, X_pca)\n",
    "plt.show()"
   ]
  },
  {
   "cell_type": "markdown",
   "metadata": {},
   "source": [
    "### TSNE"
   ]
  },
  {
   "cell_type": "code",
   "execution_count": 30,
   "metadata": {},
   "outputs": [
    {
     "name": "stderr",
     "output_type": "stream",
     "text": [
      "c:\\Users\\Poornima\\anaconda3\\lib\\site-packages\\sklearn\\cluster\\_kmeans.py:870: FutureWarning: The default value of `n_init` will change from 10 to 'auto' in 1.4. Set the value of `n_init` explicitly to suppress the warning\n",
      "  warnings.warn(\n"
     ]
    },
    {
     "data": {
      "image/png": "[encoded data removed]",
      "text/plain": [
       "<Figure size 800x600 with 1 Axes>"
      ]
     },
     "metadata": {},
     "output_type": "display_data"
    }
   ],
   "source": [
    "# plot decision boundary with reduced dataset  \n",
    "plt.figure(figsize=(8, 6))\n",
    "X_tsne = X_tsne.astype('float64')\n",
    "kmeans_tsne_reduction = KMeans(n_clusters=2, random_state=0).fit(X_tsne)\n",
    "plot_decision_boundaries(kmeans_tsne_reduction,X_tsne)\n",
    "plt.show()"
   ]
  },
  {
   "cell_type": "markdown",
   "metadata": {},
   "source": [
    "# thinkingg\n"
   ]
  },
  {
   "cell_type": "code",
   "execution_count": 31,
   "metadata": {},
   "outputs": [
    {
     "data": {
      "text/plain": [
       "array([[ 4.30253703, 10.28624051],\n",
       "       [ 4.40163669, 10.65466936],\n",
       "       [ 4.14452679, 10.37358479],\n",
       "       ...,\n",
       "       [ 5.45134517, 14.10510929],\n",
       "       [ 5.50405277, 14.2720413 ],\n",
       "       [ 5.51653151, 14.23990032]])"
      ]
     },
     "execution_count": 31,
     "metadata": {},
     "output_type": "execute_result"
    }
   ],
   "source": [
    "kmeans.transform(X)"
   ]
  },
  {
   "cell_type": "code",
   "execution_count": 32,
   "metadata": {},
   "outputs": [
    {
     "data": {
      "text/plain": [
       "(6000, 2304)"
      ]
     },
     "execution_count": 32,
     "metadata": {},
     "output_type": "execute_result"
    }
   ],
   "source": [
    "X.shape"
   ]
  },
  {
   "cell_type": "code",
   "execution_count": 33,
   "metadata": {},
   "outputs": [
    {
     "data": {
      "text/plain": [
       "array([[0.37647059, 0.35294118, 0.38039216, ..., 0.47843137, 0.4627451 ,\n",
       "        0.43137255],\n",
       "       [0.38431373, 0.39607843, 0.42352941, ..., 0.54117647, 0.49411765,\n",
       "        0.45490196],\n",
       "       [0.45882353, 0.37254902, 0.37254902, ..., 0.54117647, 0.51372549,\n",
       "        0.47058824],\n",
       "       ...,\n",
       "       [0.37254902, 0.34901961, 0.34117647, ..., 0.44313725, 0.46666667,\n",
       "        0.45490196],\n",
       "       [0.34901961, 0.35294118, 0.3372549 , ..., 0.43921569, 0.45098039,\n",
       "        0.44313725],\n",
       "       [0.36078431, 0.3254902 , 0.3254902 , ..., 0.44313725, 0.45490196,\n",
       "        0.45490196]])"
      ]
     },
     "execution_count": 33,
     "metadata": {},
     "output_type": "execute_result"
    }
   ],
   "source": [
    "X\n"
   ]
  },
  {
   "cell_type": "code",
   "execution_count": 34,
   "metadata": {},
   "outputs": [
    {
     "name": "stdout",
     "output_type": "stream",
     "text": [
      "[False False False ... False False False]\n",
      "(2304,)\n",
      "[ True  True  True ...  True  True  True]\n",
      "(2304,)\n"
     ]
    }
   ],
   "source": [
    "# take 5 random indexes from each cluster and plot original images\n",
    "\n",
    "X_pca_dataframe = pd.DataFrame(X_pca)\n",
    "def plot_clusters(clusters):\n",
    "    for c in range(clusters.n_clusters):\n",
    "        cluster = X_dataframe.iloc[clusters.labels_ == c]\n",
    "        print(clusters.labels_ == c)\n",
    "        #fig, axes = plt.subplots(1, 5, figsize=(20, 4))\n",
    "        #for i in range(5):\n",
    "        random_choice = np.random.randint(0, cluster.shape[0])\n",
    "        image = X_dataframe.iloc[1]\n",
    "        print(image.shape)\n",
    "        #X[image]\n",
    "        #axes[i].set_title(\"Cluster \" + str(c) + \", \" + str(image.name))\n",
    "        #axes[i].imshow(image)\n",
    "        #axes[i].axis('off')\n",
    "    plt.show()\n",
    "\n",
    "plot_clusters(kmeans_reduction_pca)\n"
   ]
  },
  {
   "cell_type": "code",
   "execution_count": 35,
   "metadata": {},
   "outputs": [
    {
     "data": {
      "text/html": [
       "<div>\n",
       "<style scoped>\n",
       "    .dataframe tbody tr th:only-of-type {\n",
       "        vertical-align: middle;\n",
       "    }\n",
       "\n",
       "    .dataframe tbody tr th {\n",
       "        vertical-align: top;\n",
       "    }\n",
       "\n",
       "    .dataframe thead th {\n",
       "        text-align: right;\n",
       "    }\n",
       "</style>\n",
       "<table border=\"1\" class=\"dataframe\">\n",
       "  <thead>\n",
       "    <tr style=\"text-align: right;\">\n",
       "      <th></th>\n",
       "      <th>0</th>\n",
       "      <th>1</th>\n",
       "      <th>2</th>\n",
       "      <th>3</th>\n",
       "      <th>4</th>\n",
       "      <th>5</th>\n",
       "      <th>6</th>\n",
       "      <th>7</th>\n",
       "      <th>8</th>\n",
       "      <th>9</th>\n",
       "      <th>...</th>\n",
       "      <th>2294</th>\n",
       "      <th>2295</th>\n",
       "      <th>2296</th>\n",
       "      <th>2297</th>\n",
       "      <th>2298</th>\n",
       "      <th>2299</th>\n",
       "      <th>2300</th>\n",
       "      <th>2301</th>\n",
       "      <th>2302</th>\n",
       "      <th>2303</th>\n",
       "    </tr>\n",
       "  </thead>\n",
       "  <tbody>\n",
       "    <tr>\n",
       "      <th>0</th>\n",
       "      <td>0.376471</td>\n",
       "      <td>0.352941</td>\n",
       "      <td>0.380392</td>\n",
       "      <td>0.384314</td>\n",
       "      <td>0.388235</td>\n",
       "      <td>0.447059</td>\n",
       "      <td>0.494118</td>\n",
       "      <td>0.490196</td>\n",
       "      <td>0.623529</td>\n",
       "      <td>0.670588</td>\n",
       "      <td>...</td>\n",
       "      <td>0.584314</td>\n",
       "      <td>0.576471</td>\n",
       "      <td>0.576471</td>\n",
       "      <td>0.494118</td>\n",
       "      <td>0.443137</td>\n",
       "      <td>0.439216</td>\n",
       "      <td>0.494118</td>\n",
       "      <td>0.478431</td>\n",
       "      <td>0.462745</td>\n",
       "      <td>0.431373</td>\n",
       "    </tr>\n",
       "    <tr>\n",
       "      <th>1</th>\n",
       "      <td>0.384314</td>\n",
       "      <td>0.396078</td>\n",
       "      <td>0.423529</td>\n",
       "      <td>0.501961</td>\n",
       "      <td>0.513725</td>\n",
       "      <td>0.509804</td>\n",
       "      <td>0.552941</td>\n",
       "      <td>0.513725</td>\n",
       "      <td>0.486275</td>\n",
       "      <td>0.494118</td>\n",
       "      <td>...</td>\n",
       "      <td>0.407843</td>\n",
       "      <td>0.415686</td>\n",
       "      <td>0.392157</td>\n",
       "      <td>0.419608</td>\n",
       "      <td>0.411765</td>\n",
       "      <td>0.478431</td>\n",
       "      <td>0.545098</td>\n",
       "      <td>0.541176</td>\n",
       "      <td>0.494118</td>\n",
       "      <td>0.454902</td>\n",
       "    </tr>\n",
       "    <tr>\n",
       "      <th>2</th>\n",
       "      <td>0.458824</td>\n",
       "      <td>0.372549</td>\n",
       "      <td>0.372549</td>\n",
       "      <td>0.356863</td>\n",
       "      <td>0.364706</td>\n",
       "      <td>0.380392</td>\n",
       "      <td>0.400000</td>\n",
       "      <td>0.400000</td>\n",
       "      <td>0.490196</td>\n",
       "      <td>0.525490</td>\n",
       "      <td>...</td>\n",
       "      <td>0.470588</td>\n",
       "      <td>0.431373</td>\n",
       "      <td>0.443137</td>\n",
       "      <td>0.435294</td>\n",
       "      <td>0.454902</td>\n",
       "      <td>0.443137</td>\n",
       "      <td>0.474510</td>\n",
       "      <td>0.541176</td>\n",
       "      <td>0.513725</td>\n",
       "      <td>0.470588</td>\n",
       "    </tr>\n",
       "    <tr>\n",
       "      <th>3</th>\n",
       "      <td>0.415686</td>\n",
       "      <td>0.447059</td>\n",
       "      <td>0.470588</td>\n",
       "      <td>0.521569</td>\n",
       "      <td>0.525490</td>\n",
       "      <td>0.490196</td>\n",
       "      <td>0.447059</td>\n",
       "      <td>0.490196</td>\n",
       "      <td>0.454902</td>\n",
       "      <td>0.352941</td>\n",
       "      <td>...</td>\n",
       "      <td>0.576471</td>\n",
       "      <td>0.588235</td>\n",
       "      <td>0.529412</td>\n",
       "      <td>0.482353</td>\n",
       "      <td>0.494118</td>\n",
       "      <td>0.494118</td>\n",
       "      <td>0.549020</td>\n",
       "      <td>0.423529</td>\n",
       "      <td>0.388235</td>\n",
       "      <td>0.439216</td>\n",
       "    </tr>\n",
       "    <tr>\n",
       "      <th>4</th>\n",
       "      <td>0.427451</td>\n",
       "      <td>0.388235</td>\n",
       "      <td>0.384314</td>\n",
       "      <td>0.400000</td>\n",
       "      <td>0.400000</td>\n",
       "      <td>0.427451</td>\n",
       "      <td>0.494118</td>\n",
       "      <td>0.474510</td>\n",
       "      <td>0.576471</td>\n",
       "      <td>0.513725</td>\n",
       "      <td>...</td>\n",
       "      <td>0.431373</td>\n",
       "      <td>0.474510</td>\n",
       "      <td>0.466667</td>\n",
       "      <td>0.458824</td>\n",
       "      <td>0.478431</td>\n",
       "      <td>0.521569</td>\n",
       "      <td>0.498039</td>\n",
       "      <td>0.509804</td>\n",
       "      <td>0.407843</td>\n",
       "      <td>0.419608</td>\n",
       "    </tr>\n",
       "  </tbody>\n",
       "</table>\n",
       "<p>5 rows × 2304 columns</p>\n",
       "</div>"
      ],
      "text/plain": [
       "       0         1         2         3         4         5         6     \\\n",
       "0  0.376471  0.352941  0.380392  0.384314  0.388235  0.447059  0.494118   \n",
       "1  0.384314  0.396078  0.423529  0.501961  0.513725  0.509804  0.552941   \n",
       "2  0.458824  0.372549  0.372549  0.356863  0.364706  0.380392  0.400000   \n",
       "3  0.415686  0.447059  0.470588  0.521569  0.525490  0.490196  0.447059   \n",
       "4  0.427451  0.388235  0.384314  0.400000  0.400000  0.427451  0.494118   \n",
       "\n",
       "       7         8         9     ...      2294      2295      2296      2297  \\\n",
       "0  0.490196  0.623529  0.670588  ...  0.584314  0.576471  0.576471  0.494118   \n",
       "1  0.513725  0.486275  0.494118  ...  0.407843  0.415686  0.392157  0.419608   \n",
       "2  0.400000  0.490196  0.525490  ...  0.470588  0.431373  0.443137  0.435294   \n",
       "3  0.490196  0.454902  0.352941  ...  0.576471  0.588235  0.529412  0.482353   \n",
       "4  0.474510  0.576471  0.513725  ...  0.431373  0.474510  0.466667  0.458824   \n",
       "\n",
       "       2298      2299      2300      2301      2302      2303  \n",
       "0  0.443137  0.439216  0.494118  0.478431  0.462745  0.431373  \n",
       "1  0.411765  0.478431  0.545098  0.541176  0.494118  0.454902  \n",
       "2  0.454902  0.443137  0.474510  0.541176  0.513725  0.470588  \n",
       "3  0.494118  0.494118  0.549020  0.423529  0.388235  0.439216  \n",
       "4  0.478431  0.521569  0.498039  0.509804  0.407843  0.419608  \n",
       "\n",
       "[5 rows x 2304 columns]"
      ]
     },
     "execution_count": 35,
     "metadata": {},
     "output_type": "execute_result"
    }
   ],
   "source": [
    "X_dataframe.head(5)"
   ]
  },
  {
   "cell_type": "markdown",
   "metadata": {},
   "source": [
    "# Soft clustering\n"
   ]
  },
  {
   "cell_type": "markdown",
   "metadata": {},
   "source": [
    "## Exploring different soft clustering algorithms"
   ]
  },
  {
   "cell_type": "code",
   "execution_count": 36,
   "metadata": {},
   "outputs": [
    {
     "data": {
      "text/plain": [
       "array([[10.63185415,  1.70231341, 10.61026578, ...,  4.95741852,\n",
       "         2.1051378 ,  9.53126856],\n",
       "       [10.96368536,  1.95968574, 10.93189747, ...,  4.98046593,\n",
       "         1.8366448 ,  9.7950733 ],\n",
       "       [10.78521147,  1.69839606, 10.77692185, ...,  4.81290118,\n",
       "         1.91755764,  9.53396957],\n",
       "       ...,\n",
       "       [14.55042053,  5.04448209, 14.51849456, ...,  5.68080237,\n",
       "         2.10236654, 12.30452937],\n",
       "       [14.7425386 ,  5.21380551, 14.71546874, ...,  5.73239453,\n",
       "         2.26395466, 12.42039317],\n",
       "       [14.68724718,  5.14048467, 14.66735599, ...,  5.63442664,\n",
       "         2.18797295, 12.32788649]])"
      ]
     },
     "execution_count": 36,
     "metadata": {},
     "output_type": "execute_result"
    }
   ],
   "source": [
    "\n",
    "from sklearn.cluster import Birch\n",
    "from sklearn.cluster import AgglomerativeClustering\n",
    "from sklearn.mixture import GaussianMixture\n",
    "\n",
    "\n",
    "ward_pca = AgglomerativeClustering(n_clusters=2).fit(X_pca)\n",
    "birch_pca = Birch(n_clusters=2).fit(X_pca)\n",
    "#kmeans_miniBatch = MiniBatchKMeans(n_clusters=2)\n",
    "gaussianMixture = GaussianMixture(random_state=0)\n",
    "gaussianMixture.fit(X_pca)\n",
    "\n",
    "kmeans_reduction_pca.transform(X_pca)\n",
    "birch_pca.transform(X_pca)\n",
    "#kmeans_miniBatch_pca = \n",
    "#kmeans_miniBatch.transform(X_pca)\n",
    "\n",
    "kmeans_miniBatch = MiniBatchKMeans(n_clusters=2)\n",
    "kmeans_miniBatch.fit(X_pca)\n"
   ]
  },
  {
   "cell_type": "code",
   "execution_count": 37,
   "metadata": {},
   "outputs": [],
   "source": [
    "# plot scatter plots of each algorithm\n",
    "def plot_scatter(clusters, title):\n",
    "    plt.title(title)\n",
    "    for c in range(clusters.n_clusters):\n",
    "        cluster = X_dataframe.iloc[clusters.labels_ == c]\n",
    "        plt.scatter(cluster.iloc[:, 0], cluster.iloc[:, 1], label=\"Cluster \" + str(c), alpha=0.1)\n",
    "    plt.legend()"
   ]
  },
  {
   "cell_type": "code",
   "execution_count": 50,
   "metadata": {},
   "outputs": [
    {
     "ename": "NameError",
     "evalue": "name 'kmeans_miniBatch' is not defined",
     "output_type": "error",
     "traceback": [
      "\u001b[1;31m---------------------------------------------------------------------------\u001b[0m",
      "\u001b[1;31mNameError\u001b[0m                                 Traceback (most recent call last)",
      "\u001b[1;32mc:\\Users\\Poornima\\OneDrive - Heriot-Watt University\\Desktop\\dmml portfolio\\DMML-GroupProject\\Lab\\Lab 7\\dataset_explore_lab_5_group_6_final.ipynb Cell 99\u001b[0m line \u001b[0;36m1\n\u001b[0;32m     <a href='vscode-notebook-cell:/c%3A/Users/Poornima/OneDrive%20-%20Heriot-Watt%20University/Desktop/dmml%20portfolio/DMML-GroupProject/Lab/Lab%207/dataset_explore_lab_5_group_6_final.ipynb#Y253sZmlsZQ%3D%3D?line=9'>10</a>\u001b[0m plot_scatter(birch_pca, \u001b[39m\"\u001b[39m\u001b[39mBirch\u001b[39m\u001b[39m\"\u001b[39m)\n\u001b[0;32m     <a href='vscode-notebook-cell:/c%3A/Users/Poornima/OneDrive%20-%20Heriot-Watt%20University/Desktop/dmml%20portfolio/DMML-GroupProject/Lab/Lab%207/dataset_explore_lab_5_group_6_final.ipynb#Y253sZmlsZQ%3D%3D?line=11'>12</a>\u001b[0m plt\u001b[39m.\u001b[39msubplot(\u001b[39m1\u001b[39m,\u001b[39m4\u001b[39m,\u001b[39m4\u001b[39m)\n\u001b[1;32m---> <a href='vscode-notebook-cell:/c%3A/Users/Poornima/OneDrive%20-%20Heriot-Watt%20University/Desktop/dmml%20portfolio/DMML-GroupProject/Lab/Lab%207/dataset_explore_lab_5_group_6_final.ipynb#Y253sZmlsZQ%3D%3D?line=12'>13</a>\u001b[0m plot_scatter(kmeans_miniBatch, \u001b[39m\"\u001b[39m\u001b[39mkmeans minibatch\u001b[39m\u001b[39m\"\u001b[39m)\n",
      "\u001b[1;31mNameError\u001b[0m: name 'kmeans_miniBatch' is not defined"
     ]
    },
    {
     "data": {
      "image/png": "[encoded data removed]",
      "text/plain": [
       "<Figure size 1000x500 with 4 Axes>"
      ]
     },
     "metadata": {},
     "output_type": "display_data"
    }
   ],
   "source": [
    "plt.figure(figsize=(10, 5))\n",
    "\n",
    "plt.subplot(1,4,1)\n",
    "plot_scatter(kmeans_reduction_pca, \"KMeans\")\n",
    "\n",
    "plt.subplot(1,4,2)\n",
    "plot_scatter(ward_pca, \"Ward\")\n",
    "\n",
    "plt.subplot(1,4,3)\n",
    "plot_scatter(birch_pca, \"Birch\")\n",
    "\n",
    "plt.subplot(1,4,4)\n",
    "plot_scatter(kmeans_miniBatch, \"kmeans minibatch\")\n",
    "\n",
    "\n",
    "\n",
    "\n",
    "\n"
   ]
  },
  {
   "cell_type": "markdown",
   "metadata": {},
   "source": [
    "## Optimum Cluster Size"
   ]
  },
  {
   "cell_type": "code",
   "execution_count": 48,
   "metadata": {},
   "outputs": [
    {
     "name": "stderr",
     "output_type": "stream",
     "text": [
      "c:\\Users\\Poornima\\anaconda3\\lib\\site-packages\\sklearn\\cluster\\_kmeans.py:1366: FutureWarning: algorithm='full' is deprecated, it will be removed in 1.3. Using 'lloyd' instead.\n",
      "  warnings.warn(\n"
     ]
    },
    {
     "data": {
      "text/html": [
       "<style>#sk-container-id-2 {color: black;background-color: white;}#sk-container-id-2 pre{padding: 0;}#sk-container-id-2 div.sk-toggleable {background-color: white;}#sk-container-id-2 label.sk-toggleable__label {cursor: pointer;display: block;width: 100%;margin-bottom: 0;padding: 0.3em;box-sizing: border-box;text-align: center;}#sk-container-id-2 label.sk-toggleable__label-arrow:before {content: \"▸\";float: left;margin-right: 0.25em;color: #696969;}#sk-container-id-2 label.sk-toggleable__label-arrow:hover:before {color: black;}#sk-container-id-2 div.sk-estimator:hover label.sk-toggleable__label-arrow:before {color: black;}#sk-container-id-2 div.sk-toggleable__content {max-height: 0;max-width: 0;overflow: hidden;text-align: left;background-color: #f0f8ff;}#sk-container-id-2 div.sk-toggleable__content pre {margin: 0.2em;color: black;border-radius: 0.25em;background-color: #f0f8ff;}#sk-container-id-2 input.sk-toggleable__control:checked~div.sk-toggleable__content {max-height: 200px;max-width: 100%;overflow: auto;}#sk-container-id-2 input.sk-toggleable__control:checked~label.sk-toggleable__label-arrow:before {content: \"▾\";}#sk-container-id-2 div.sk-estimator input.sk-toggleable__control:checked~label.sk-toggleable__label {background-color: #d4ebff;}#sk-container-id-2 div.sk-label input.sk-toggleable__control:checked~label.sk-toggleable__label {background-color: #d4ebff;}#sk-container-id-2 input.sk-hidden--visually {border: 0;clip: rect(1px 1px 1px 1px);clip: rect(1px, 1px, 1px, 1px);height: 1px;margin: -1px;overflow: hidden;padding: 0;position: absolute;width: 1px;}#sk-container-id-2 div.sk-estimator {font-family: monospace;background-color: #f0f8ff;border: 1px dotted black;border-radius: 0.25em;box-sizing: border-box;margin-bottom: 0.5em;}#sk-container-id-2 div.sk-estimator:hover {background-color: #d4ebff;}#sk-container-id-2 div.sk-parallel-item::after {content: \"\";width: 100%;border-bottom: 1px solid gray;flex-grow: 1;}#sk-container-id-2 div.sk-label:hover label.sk-toggleable__label {background-color: #d4ebff;}#sk-container-id-2 div.sk-serial::before {content: \"\";position: absolute;border-left: 1px solid gray;box-sizing: border-box;top: 0;bottom: 0;left: 50%;z-index: 0;}#sk-container-id-2 div.sk-serial {display: flex;flex-direction: column;align-items: center;background-color: white;padding-right: 0.2em;padding-left: 0.2em;position: relative;}#sk-container-id-2 div.sk-item {position: relative;z-index: 1;}#sk-container-id-2 div.sk-parallel {display: flex;align-items: stretch;justify-content: center;background-color: white;position: relative;}#sk-container-id-2 div.sk-item::before, #sk-container-id-2 div.sk-parallel-item::before {content: \"\";position: absolute;border-left: 1px solid gray;box-sizing: border-box;top: 0;bottom: 0;left: 50%;z-index: -1;}#sk-container-id-2 div.sk-parallel-item {display: flex;flex-direction: column;z-index: 1;position: relative;background-color: white;}#sk-container-id-2 div.sk-parallel-item:first-child::after {align-self: flex-end;width: 50%;}#sk-container-id-2 div.sk-parallel-item:last-child::after {align-self: flex-start;width: 50%;}#sk-container-id-2 div.sk-parallel-item:only-child::after {width: 0;}#sk-container-id-2 div.sk-dashed-wrapped {border: 1px dashed gray;margin: 0 0.4em 0.5em 0.4em;box-sizing: border-box;padding-bottom: 0.4em;background-color: white;}#sk-container-id-2 div.sk-label label {font-family: monospace;font-weight: bold;display: inline-block;line-height: 1.2em;}#sk-container-id-2 div.sk-label-container {text-align: center;}#sk-container-id-2 div.sk-container {/* jupyter's `normalize.less` sets `[hidden] { display: none; }` but bootstrap.min.css set `[hidden] { display: none !important; }` so we also need the `!important` here to be able to override the default hidden behavior on the sphinx rendered scikit-learn.org. See: https://github.com/scikit-learn/scikit-learn/issues/21755 */display: inline-block !important;position: relative;}#sk-container-id-2 div.sk-text-repr-fallback {display: none;}</style><div id=\"sk-container-id-2\" class=\"sk-top-container\"><div class=\"sk-text-repr-fallback\"><pre>KMeans(algorithm=&#x27;full&#x27;, init=&#x27;random&#x27;, n_clusters=5, n_init=10,\n",
       "       random_state=11)</pre><b>In a Jupyter environment, please rerun this cell to show the HTML representation or trust the notebook. <br />On GitHub, the HTML representation is unable to render, please try loading this page with nbviewer.org.</b></div><div class=\"sk-container\" hidden><div class=\"sk-item\"><div class=\"sk-estimator sk-toggleable\"><input class=\"sk-toggleable__control sk-hidden--visually\" id=\"sk-estimator-id-2\" type=\"checkbox\" checked><label for=\"sk-estimator-id-2\" class=\"sk-toggleable__label sk-toggleable__label-arrow\">KMeans</label><div class=\"sk-toggleable__content\"><pre>KMeans(algorithm=&#x27;full&#x27;, init=&#x27;random&#x27;, n_clusters=5, n_init=10,\n",
       "       random_state=11)</pre></div></div></div></div></div>"
      ],
      "text/plain": [
       "KMeans(algorithm='full', init='random', n_clusters=5, n_init=10,\n",
       "       random_state=11)"
      ]
     },
     "execution_count": 48,
     "metadata": {},
     "output_type": "execute_result"
    }
   ],
   "source": [
    "kmeans_rnd_10_inits = KMeans(n_clusters=5, init=\"random\", n_init=10,\n",
    "                              algorithm=\"full\", random_state=11)\n",
    "kmeans_rnd_10_inits.fit(X_pca)"
   ]
  },
  {
   "cell_type": "code",
   "execution_count": 44,
   "metadata": {},
   "outputs": [
    {
     "data": {
      "text/plain": [
       "(6000, 2304)"
      ]
     },
     "execution_count": 44,
     "metadata": {},
     "output_type": "execute_result"
    }
   ],
   "source": [
    "X.shape"
   ]
  },
  {
   "cell_type": "code",
   "execution_count": 41,
   "metadata": {},
   "outputs": [
    {
     "data": {
      "text/plain": [
       "array([[0.37647059, 0.35294118, 0.38039216, ..., 0.47843137, 0.4627451 ,\n",
       "        0.43137255],\n",
       "       [0.38431373, 0.39607843, 0.42352941, ..., 0.54117647, 0.49411765,\n",
       "        0.45490196],\n",
       "       [0.45882353, 0.37254902, 0.37254902, ..., 0.54117647, 0.51372549,\n",
       "        0.47058824],\n",
       "       ...,\n",
       "       [0.37254902, 0.34901961, 0.34117647, ..., 0.44313725, 0.46666667,\n",
       "        0.45490196],\n",
       "       [0.34901961, 0.35294118, 0.3372549 , ..., 0.43921569, 0.45098039,\n",
       "        0.44313725],\n",
       "       [0.36078431, 0.3254902 , 0.3254902 , ..., 0.44313725, 0.45490196,\n",
       "        0.45490196]])"
      ]
     },
     "execution_count": 41,
     "metadata": {},
     "output_type": "execute_result"
    }
   ],
   "source": [
    "X"
   ]
  },
  {
   "cell_type": "code",
   "execution_count": 42,
   "metadata": {},
   "outputs": [
    {
     "data": {
      "text/plain": [
       "(6000, 2)"
      ]
     },
     "execution_count": 42,
     "metadata": {},
     "output_type": "execute_result"
    }
   ],
   "source": [
    "X_pca.shape"
   ]
  },
  {
   "cell_type": "code",
   "execution_count": 49,
   "metadata": {},
   "outputs": [
    {
     "data": {
      "image/png": "[encoded data removed]",
      "text/plain": [
       "<Figure size 800x400 with 1 Axes>"
      ]
     },
     "metadata": {},
     "output_type": "display_data"
    }
   ],
   "source": [
    "plt.figure(figsize=(8, 4))\n",
    "plot_decision_boundaries(kmeans_rnd_10_inits, X_pca)\n",
    "plt.show()"
   ]
  },
  {
   "cell_type": "markdown",
   "metadata": {},
   "source": [
    "### Silhoutte Score"
   ]
  },
  {
   "cell_type": "code",
   "execution_count": null,
   "metadata": {},
   "outputs": [],
   "source": [
    "#referenced : tutorials\n",
    "from sklearn.metrics import silhouette_score\n"
   ]
  },
  {
   "cell_type": "code",
   "execution_count": null,
   "metadata": {},
   "outputs": [],
   "source": [
    "silhouette_score(X, kmeans.labels_) \n"
   ]
  },
  {
   "cell_type": "code",
   "execution_count": null,
   "metadata": {},
   "outputs": [],
   "source": [
    "silhouette_scores = [silhouette_score(X, model.labels_) for model in kmeans_per_k[1:]]     \n"
   ]
  },
  {
   "cell_type": "code",
   "execution_count": null,
   "metadata": {},
   "outputs": [],
   "source": [
    "plt.figure(figsize=(8, 3))\n",
    "plt.plot(range(2, 10), silhouette_scores, \"bo-\",color='green',linewidth=2)\n",
    "plt.xlabel(\"$k$\", fontsize=16)\n",
    "plt.ylabel(\"Silhouette score\", fontsize=14)\n",
    "plt.axis([1.8, 10, 0.20, 0.7])\n",
    "plt.show()"
   ]
  },
  {
   "cell_type": "markdown",
   "metadata": {},
   "source": [
    "### Elbow Method\n"
   ]
  },
  {
   "cell_type": "code",
   "execution_count": null,
   "metadata": {},
   "outputs": [],
   "source": [
    "import numpy as np\n",
    "import matplotlib.pyplot as plt\n",
    "import pandas as pd \n",
    "import sklearn"
   ]
  },
  {
   "cell_type": "code",
   "execution_count": null,
   "metadata": {},
   "outputs": [],
   "source": [
    "kmeans_per_k = [KMeans(n_clusters=k, random_state=42).fit(X)\n",
    "                for k in range(1, 10)]\n",
    "inertias = [model.inertia_ for model in kmeans_per_k]"
   ]
  },
  {
   "cell_type": "code",
   "execution_count": null,
   "metadata": {},
   "outputs": [],
   "source": [
    "#reference : https://www.analyticsvidhya.com/blog/2021/05/k-mean-getting-the-optimal-number-of-clusters/\n",
    "#reference : tutorials\n",
    "\n",
    "data_frame = X_dataframe\n",
    "Sum_of_squared_distances = []\n",
    "K = range(1,10)\n",
    "for num_clusters in K :\n",
    " kmeans = KMeans(n_clusters=num_clusters)\n",
    " kmeans.fit(data_frame)\n",
    " Sum_of_squared_distances.append(kmeans.inertia_)\n",
    "\n",
    "\n",
    "plt.annotate('Elbow',\n",
    "             xy=(2, inertias[1]), \n",
    "             xytext=(0.3, 0.5),  \n",
    "             textcoords='figure fraction',  \n",
    "             fontsize=16,  \n",
    "             arrowprops=dict(facecolor='black', shrink=0.1)  \n",
    "            )\n",
    "\n",
    "plt.plot(K,Sum_of_squared_distances,\"bo-\",color=\"green\",linewidth=2)\n",
    "plt.xlabel(\"Values of K\") \n",
    "plt.ylabel(\"Inertia\") \n",
    "plt.title(\"Optimal k value\")\n",
    "plt.show()"
   ]
  }
 ],
 "metadata": {
  "colab": {
   "include_colab_link": true,
   "provenance": []
  },
  "kernelspec": {
   "display_name": "Python 3 (ipykernel)",
   "language": "python",
   "name": "python3"
  },
  "language_info": {
   "codemirror_mode": {
    "name": "ipython",
    "version": 3
   },
   "file_extension": ".py",
   "mimetype": "text/x-python",
   "name": "python",
   "nbconvert_exporter": "python",
   "pygments_lexer": "ipython3",
   "version": "3.10.9"
  }
 },
 "nbformat": 4,
 "nbformat_minor": 1
}
